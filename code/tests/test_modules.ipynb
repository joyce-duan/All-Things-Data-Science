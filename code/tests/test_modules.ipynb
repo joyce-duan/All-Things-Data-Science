{
 "cells": [
  {
   "cell_type": "code",
   "execution_count": 1,
   "metadata": {
    "collapsed": false
   },
   "outputs": [],
   "source": [
    "import boilerpipe"
   ]
  },
  {
   "cell_type": "code",
   "execution_count": 3,
   "metadata": {
    "collapsed": false
   },
   "outputs": [],
   "source": [
    "from httplib import BadStatusLine\n",
    "#import extraction\n",
    "from boilerpipe.extract import Extractor\n",
    "#import feedparser"
   ]
  },
  {
   "cell_type": "code",
   "execution_count": 4,
   "metadata": {
    "collapsed": false
   },
   "outputs": [
    {
     "name": "stdout",
     "output_type": "stream",
     "text": [
      "Listen\n",
      "The Louvre of the Industrial Age\n",
      "The Henry Ford is one of the world's great museums, and the world it chronicles is our own.\n",
      "by Tim O'Reilly | @timoreilly | +Tim O'Reilly | July 30, 2010\n",
      "This morning I had the chance to get a tour of The Henry Ford Museum in Dearborn, MI, along with Dale Dougherty, creator of Make: and Makerfaire, and Marc Greuther, the chief curator of the museum.  I had expected a museum dedicated to the auto industry, but it’s so much more than that.  As I wrote in my first stunned tweet, “it’s the Louvre of the Industrial Age.”\n",
      "When we first entered, Marc took us to what he said may be his favorite artifact in the museum, a block of concrete that contains Luther Burbank’s shovel, and Thomas Edison’s signature and footprints.  Luther Burbank was, of course, the great agricultural inventor who created such treasures as the nectarine and the Santa Rosa plum. Ford was a farm boy who became an industrialist; Thomas Edison was his friend and mentor. The museum, opened in 1929, was Ford’s personal homage to the transformation of the world that he was so much a part of.  This museum chronicles that transformation.\n",
      "The machines are astonishing – steam engines and coal-fired electric generators as big as houses, the first lathes capable of making other precision lathes (the makerbot of the 19th century), a ribbon glass machine that is one of five that in the 1970s made virtually all of the incandescent lightbulbs in the world, combine harvesters, railroad locomotives, cars, airplanes, even motels, gas stations, an early McDonalds’ restaurant and other epiphenomena of the automobile era.\n",
      "Under Marc’s eye, we also saw the transformation of the machines from purely functional objects to things of beauty.  We saw the advances in engineering — the materials, the workmanship, the design, over a hundred years of innovation.  Visiting The Henry Ford, as they call it, is a truly humbling experience.  I would never in a hundred years have thought of making a visit to Detroit just to visit this museum, but knowing what I know now, I will tell you confidently that it is as worth your while as a visit to Paris just to see the Louvre, to Rome for the Vatican Museum, to Florence for the Uffizi Gallery, to St. Petersburg for the Hermitage, or to Berlin for the Pergamon Museum.  This is truly one of the world’s great museums, and the world that it chronicles is our own.\n",
      "I am truly humbled that the Museum has partnered with us to hold Makerfaire Detroit on their grounds.  If you are anywhere in reach of Detroit this weekend, I heartily recommend that you plan to spend both days there.  You can easily spend a day at Makerfaire, and you could easily spend a day at The Henry Ford.\n",
      "P.S. Here are some of my photos from my visit .  (More to come soon. Can’t upload many as I’m currently on a plane.)\n",
      "Related:\n",
      "\n"
     ]
    }
   ],
   "source": [
    "from boilerpipe.extract import Extractor\n",
    "\n",
    "URL='http://radar.oreilly.com/2010/07/louvre-industrial-age-henry-ford.html'\n",
    "\n",
    "extractor = Extractor(extractor='ArticleExtractor', url=URL)\n",
    "\n",
    "print extractor.getText()"
   ]
  },
  {
   "cell_type": "code",
   "execution_count": 5,
   "metadata": {
    "collapsed": false
   },
   "outputs": [
    {
     "name": "stdout",
     "output_type": "stream",
     "text": [
      "Listen\n",
      "The Louvre of the Industrial Age\n",
      "The Henry Ford is one of the world's great museums, and the world it chronicles is our own.\n",
      "by Tim O'Reilly | @timoreilly | +Tim O'Reilly | July 30, 2010\n",
      "This morning I had the chance to get a tour of The Henry Ford Museum in Dearborn, MI, along with Dale Dougherty, creator of Make: and Makerfaire, and Marc Greuther, the chief curator of the museum.  I had expected a museum dedicated to the auto industry, but it’s so much more than that.  As I wrote in my first stunned tweet, “it’s the Louvre of the Industrial Age.”\n",
      "When we first entered, Marc took us to what he said may be his favorite artifact in the museum, a block of concrete that contains Luther Burbank’s shovel, and Thomas Edison’s signature and footprints.  Luther Burbank was, of course, the great agricultural inventor who created such treasures as the nectarine and the Santa Rosa plum. Ford was a farm boy who became an industrialist; Thomas Edison was his friend and mentor. The museum, opened in 1929, was Ford’s personal homage to the transformation of the world that he was so much a part of.  This museum chronicles that transformation.\n",
      "The machines are astonishing – steam engines and coal-fired electric generators as big as houses, the first lathes capable of making other precision lathes (the makerbot of the 19th century), a ribbon glass machine that is one of five that in the 1970s made virtually all of the incandescent lightbulbs in the world, combine harvesters, railroad locomotives, cars, airplanes, even motels, gas stations, an early McDonalds’ restaurant and other epiphenomena of the automobile era.\n",
      "Under Marc’s eye, we also saw the transformation of the machines from purely functional objects to things of beauty.  We saw the advances in engineering — the materials, the workmanship, the design, over a hundred years of innovation.  Visiting The Henry Ford, as they call it, is a truly humbling experience.  I would never in a hundred years have thought of making a visit to Detroit just to visit this museum, but knowing what I know now, I will tell you confidently that it is as worth your while as a visit to Paris just to see the Louvre, to Rome for the Vatican Museum, to Florence for the Uffizi Gallery, to St. Petersburg for the Hermitage, or to Berlin for the Pergamon Museum.  This is truly one of the world’s great museums, and the world that it chronicles is our own.\n",
      "I am truly humbled that the Museum has partnered with us to hold Makerfaire Detroit on their grounds.  If you are anywhere in reach of Detroit this weekend, I heartily recommend that you plan to spend both days there.  You can easily spend a day at Makerfaire, and you could easily spend a day at The Henry Ford.\n",
      "P.S. Here are some of my photos from my visit .  (More to come soon. Can’t upload many as I’m currently on a plane.)\n",
      "Related:\n",
      "\n"
     ]
    }
   ],
   "source": [
    "# used by popart:  https://github.com/mickaellegal/Popart/blob/master/Code/database.py\n",
    "from httplib import BadStatusLine\n",
    "from boilerpipe.extract import Extractor\n",
    "try:\n",
    "\textractor = Extractor(extractor='ArticleExtractor', url=URL)\n",
    "\textracted_text = extractor.getText()\n",
    "\tprint(extracted_text)\n",
    "    # do something with page\n",
    "except BadStatusLine:\n",
    "    print(\"could not fetch %s\" % urls)"
   ]
  },
  {
   "cell_type": "code",
   "execution_count": null,
   "metadata": {
    "collapsed": true
   },
   "outputs": [],
   "source": [
    "#db.articles.findOne({'raw_html':{$exists:true}},{'url':1,'raw_html':1, _id:0})"
   ]
  },
  {
   "cell_type": "code",
   "execution_count": 15,
   "metadata": {
    "collapsed": false
   },
   "outputs": [
    {
     "name": "stdout",
     "output_type": "stream",
     "text": [
      "/Users/joyceduan/documents/git/All-Things-Data-Science/code/test\n",
      "__init__.py mongo.py    mongo.pyc\n"
     ]
    }
   ],
   "source": [
    "! pwd\n",
    "! ls ../db"
   ]
  },
  {
   "cell_type": "code",
   "execution_count": 14,
   "metadata": {
    "collapsed": false
   },
   "outputs": [],
   "source": [
    "import sys\n",
    "sys.path.append('../db')\n",
    "from mongo import MyMongo"
   ]
  },
  {
   "cell_type": "code",
   "execution_count": 22,
   "metadata": {
    "collapsed": false
   },
   "outputs": [],
   "source": [
    "my_mongo = MyMongo()\n",
    "cur_articles = my_mongo.get_articles(testing=1)\n"
   ]
  },
  {
   "cell_type": "code",
   "execution_count": 23,
   "metadata": {
    "collapsed": false
   },
   "outputs": [],
   "source": [
    "articles = list(cur_articles)"
   ]
  },
  {
   "cell_type": "code",
   "execution_count": 25,
   "metadata": {
    "collapsed": false
   },
   "outputs": [],
   "source": [
    "a = articles[0]"
   ]
  },
  {
   "cell_type": "code",
   "execution_count": 28,
   "metadata": {
    "collapsed": false
   },
   "outputs": [
    {
     "name": "stdout",
     "output_type": "stream",
     "text": [
      "runs live jupyter notebooks using docker and tmpnb\n",
      "available: of\n",
      "explore publicly available data sets\n",
      "try new libraries like Thunder (built on Spark )\n",
      "prototype analyses for benchmarking challenges\n",
      "\n"
     ]
    }
   ],
   "source": [
    "try:\n",
    "\textractor = Extractor(extractor='ArticleExtractor', html=a['raw_html'])\n",
    "\textracted_text = extractor.getText()\n",
    "    l = extracted_text.split('\\n')\n",
    "\tprint(extracted_text)\n",
    "    # do something with page\n",
    "except BadStatusLine:\n",
    "    print(\"could not fetch %s\" % urls)"
   ]
  },
  {
   "cell_type": "code",
   "execution_count": 32,
   "metadata": {
    "collapsed": false
   },
   "outputs": [
    {
     "name": "stdout",
     "output_type": "stream",
     "text": [
      "{u'url': u'http://notebooks.codeneuro.org/', u'raw_html': u'<head>\\n<meta charset=\"utf-8\">\\n<meta http-equiv=\"X-UA-Compatible\" content=\"chrome=1\">\\n<link href=\\'http://fonts.googleapis.com/css?family=Abel\\' rel=\\'stylesheet\\' type=\\'text/css\\'>\\n<title>Notebooks</title>\\n<link rel=\"stylesheet\" href=\"css/styles.css\">\\n<link rel=\"stylesheet\" href=\"css/shelves.css\">\\n<link href=\\'http://fonts.googleapis.com/css?family=Abel\\' rel=\\'stylesheet\\' type=\\'text/css\\'>\\n<link href=\"http://maxcdn.bootstrapcdn.com/font-awesome/4.1.0/css/font-awesome.min.css\" rel=\"stylesheet\">\\n<script src=\"https://ajax.googleapis.com/ajax/libs/jquery/1.7.1/jquery.min.js\"></script>\\n<link rel=\"icon\" sizes=\"16x16 32x32\" href=\"favicon.ico?v=2\">\\n<meta name=\"description\" content=\"Interactive notebooks for exploring and analyzing neuroscience data in the browser\">\\n<meta name=\"viewport\" content=\"width=device-width, initial-scale=1\">\\n</head>\\n\\n<html>\\n<body>\\n\\n<section id=\"top\">\\n\\n\\t<div class=\"row\">\\n\\n    <div class=\"column-7\">\\n      <a href=\\'http://codeneuro.org\\'><img style=\"width: 600px; padding-top: 80px\" src=\"svg/logo.svg\"></a>\\n    </div>\\n\\n    <div class=\"prefix-1 column-3\">\\n      <a class=\\'launch-wrapper\\' href=\\'http://notebooks.codeneuro.org:9000\\' target=\"_blank\"><button class=\\'launch\\'><p class=\\'launch-text\\'>launch</p></button></a>\\n      <p class=\"info\">runs live jupyter notebooks using <a class=\"small\" href=\\'https://github.com/docker/docker\\'>docker</a> and <a class=\"small\" href=\\'https://github.com/jupyter/tmpnb\\'>tmpnb</a><br>available: <span id=\\'free\\'></span> of <span id=\\'total\\'></span></p>\\n    </div>\\n\\n  </div>\\n\\n</section>\\n\\n<section id=\"bottom\">\\n\\n\\t<div class=\"row\">\\n\\t\\n\\t\\t<div class=\"column-12\">\\n\\t\\t\\t<div class=\"row\">\\n\\t\\t\\t\\t<div class=\"column-10 suffix-2\">\\n\\t\\t\\t\\t\\t<h2>explore publicly available <a href=\\'http://datasets.codeneuro.org\\' class=\"big\">data sets</a></h2>\\n\\t\\t\\t\\t</div>\\n\\t\\t\\t</div>\\n\\t\\t\\t<div class=\"row\">\\n\\t\\t\\t\\t<div class=\"column-10 prefix-2\">\\n\\t\\t\\t\\t\\t<h2>try new libraries like <a class=\"big\" href=\\'http://thunder-project.org\\'>Thunder</a> (built on <a href=\\'http://spark.apache.org\\'class=\"big\">Spark</a>)</h2>\\n\\t\\t\\t\\t</div>\\n\\t\\t\\t</div>\\n\\t\\t\\t<div class=\"row\">\\n\\t\\t\\t\\t<div class=\"column-10 prefix-1 suffix-1\">\\n\\t\\t\\t\\t\\t<h2>prototype analyses for <a href=\\'http://codeneuro.org/neurofinder\\' class=\"big\">benchmarking</a> challenges</h2>\\n\\t\\t\\t\\t</div>\\n\\t\\t\\t</div>\\n\\t\\t</div>\\n\\n\\t</div>\\n\\n\\t<div class=\"row\" style=\"max-width: 1450px\">\\n\\t\\t<div class=\"column-5 prefix-7\" style=\"text-align: right\">\\n\\t\\t<span style=\\'margin-left: 95px\\'><a class=\"social-link\" href=\"mailto:info@codeneuro.org\"><i id=\"icon\" class=\"fa fa-envelope-square fa-4x\"></i></a><a class=\"social-link\" href=\"https://twitter.com/CodeNeuro\"><i id=\"icon\" class=\"fa fa-twitter-square fa-4x\"></i></a><a class=\"social-link\" href=\"http://github.com/codeneuro/notebooks\"><i id=\"icon\" class=\"fa fa-github-square fa-4x\"></i></a></span>\\n\\t\\t</div>\\n\\t</div>\\n\\t\\n</section>\\n\\n<script>\\n\\n\\t$.getJSON(\\'http://notebooks.codeneuro.org:9000/stats\\', function(data) {\\n\\t\\tvar free = data.available\\n\\t\\tvar total = data.capacity\\n\\t\\t$(\\'#free\\').text(free)\\n\\t\\t$(\\'#total\\').text(total)\\n\\t\\tvar ratio = free / total\\n\\t\\tif (ratio < 0.666 & ratio > 0.333) {\\n\\t\\t\\t$(\\'#free\\').css(\\'color\\', \\'rgb(247,142,52)\\')\\n\\t\\t} else if (ratio < 0.333) {\\n\\t\\t\\t$(\\'#free\\').css(\\'color\\', \\'rgb(227,46,23)\\')\\n\\t\\t} else {\\n\\t\\t\\t$(\\'#free\\').css(\\'color\\', \\'rgb(39,184,90)\\')\\n\\t\\t}\\n\\t});\\n\\n</script>\\n\\n<script>\\n  (function(i,s,o,g,r,a,m){i[\\'GoogleAnalyticsObject\\']=r;i[r]=i[r]||function(){\\n  (i[r].q=i[r].q||[]).push(arguments)},i[r].l=1*new Date();a=s.createElement(o),\\n  m=s.getElementsByTagName(o)[0];a.async=1;a.src=g;m.parentNode.insertBefore(a,m)\\n  })(window,document,\\'script\\',\\'//www.google-analytics.com/analytics.js\\',\\'ga\\');\\n\\n  ga(\\'create\\', \\'UA-63776812-1\\', \\'auto\\');\\n  ga(\\'send\\', \\'pageview\\');\\n\\n</script>\\n', u'_id': ObjectId('5574ac6023d8563a343ccbdc'), u'textcontent': u'\\n'}\n"
     ]
    }
   ],
   "source": [
    "print a"
   ]
  },
  {
   "cell_type": "code",
   "execution_count": 31,
   "metadata": {
    "collapsed": false
   },
   "outputs": [
    {
     "name": "stdout",
     "output_type": "stream",
     "text": [
      "[u'runs live jupyter notebooks using docker and tmpnb', u'available: of', u'explore publicly available data sets', u'try new libraries like Thunder (built on Spark )', u'prototype analyses for benchmarking challenges', u'']\n"
     ]
    }
   ],
   "source": [
    "print l"
   ]
  },
  {
   "cell_type": "code",
   "execution_count": null,
   "metadata": {
    "collapsed": false
   },
   "outputs": [],
   "source": [
    "import requests\n",
    "import bs4\n",
    "from bs4 import BeautifulSoup\n",
    "import urllib2\n",
    "import re\n",
    "\n",
    "#url = 'http://petewarden.com/2015/04/20/why-gemm-is-at-the-heart-of-deep-learning/'\n",
    "url ='http://notebooks.codeneuro.org/'\n",
    "html = urllib2.urlopen(url).read()\n",
    "soup = BeautifulSoup(html)\n",
    "texts = soup.findAll(text=True)\n",
    "\n",
    "def list_get(l, i):\n",
    "    return l[i] if i < len(l) else ''\n",
    "    \n",
    "def visible(element):\n",
    "    if element.parent.name in ['style', 'script', '[document]', 'head', 'title']:\n",
    "        return False\n",
    "    elif re.match('<!--.*-->', str(element.encode('utf8'))):\n",
    "        return False\n",
    "    return True\n",
    "\n",
    "min_char = 6\n",
    "visible_texts = filter(visible, texts)\n",
    "v_txt = [ re.sub('[^0-9a-zA-Z]+', ' ', v) for v in visible_texts]\n",
    "v_txt = [ re.sub(' +', ' ', v) for v in visible_texts]\n",
    "#print v_txt[:3]\n",
    "#print [len(v_txt[i]) for i in xrange(10)]\n",
    "for i in xrange(len(v_txt)):\n",
    "    if len(v_txt[i]) > 5*10 and (len(list_get(v_txt, i+1)) > 3*5 or len(list_get(v_txt, i+2)) > 3*5):\n",
    "        break\n",
    "#print i\n",
    "#for j, v in enumerate (v_txt[:i]):\n",
    "#    print j,\": \", v\n",
    "\n",
    "#print '\\n'\n",
    "#print v_txt[i]\n",
    "j = 0\n",
    "content = ''\n",
    "for c in v_txt[i:]:\n",
    "    if re.search('[0-9a-zA-Z]', c): \n",
    "        content  = content + c\n",
    "    if len(c)==1:\n",
    "        content = content + c \n",
    "print content\n"
   ]
  },
  {
   "cell_type": "code",
   "execution_count": null,
   "metadata": {
    "collapsed": true
   },
   "outputs": [],
   "source": []
  }
 ],
 "metadata": {
  "kernelspec": {
   "display_name": "Python 2",
   "language": "python",
   "name": "python2"
  },
  "language_info": {
   "codemirror_mode": {
    "name": "ipython",
    "version": 2
   },
   "file_extension": ".py",
   "mimetype": "text/x-python",
   "name": "python",
   "nbconvert_exporter": "python",
   "pygments_lexer": "ipython2",
   "version": "2.7.10"
  }
 },
 "nbformat": 4,
 "nbformat_minor": 0
}
