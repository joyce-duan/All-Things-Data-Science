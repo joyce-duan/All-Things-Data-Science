{
 "cells": [
  {
   "cell_type": "code",
   "execution_count": 18,
   "metadata": {
    "collapsed": false
   },
   "outputs": [],
   "source": [
    "from pymongo import MongoClient\n",
    "import string\n",
    "import json \n",
    "import pickle as pkl\n",
    "import pandas as pd\n",
    "import numpy as np\n",
    "from nltk.corpus import stopwords\n",
    "from collections import Counter\n",
    "from nltk.stem.snowball import SnowballStemmer\n",
    "from nltk.stem.porter import PorterStemmer\n",
    "import re\n",
    "\n",
    "import matplotlib.pyplot as plt\n",
    "%matplotlib inline\n",
    "\n",
    "pd.set_option('display.mpl_style', 'default') # Make the graphs a bit prettier\n",
    "plt.rcParams['figure.figsize'] = (15, 5)\n"
   ]
  },
  {
   "cell_type": "code",
   "execution_count": 2,
   "metadata": {
    "collapsed": true
   },
   "outputs": [],
   "source": [
    "def get_mongodb_collections( client):\n",
    "\t'''\n",
    "\tcreate if does not exists; else return handler\n",
    "\t'''\n",
    "\t# Initiate Database all things data science\n",
    "\tdb = client['atds']\n",
    "\t# Initiate collection if not existing\n",
    "\n",
    "\tlinks = db['links']\n",
    "\t#print list(li.find())\n",
    "\tarticles = db['articles']\n",
    "\treturn links, articles"
   ]
  },
  {
   "cell_type": "code",
   "execution_count": 12,
   "metadata": {
    "collapsed": true
   },
   "outputs": [],
   "source": [
    "regex = re.compile('<.+?>|[^a-zA-Z]')\n",
    "porter = PorterStemmer()\n",
    "stop_words_lst = stop_words = stopwords.words('english')\n",
    "\n",
    "def tokenize(text):\n",
    "    clean_txt = regex.sub(' ', text) #remove any characters that are not english characters.\n",
    "    clean_txt = clean_txt.lower()\n",
    "    #  punct_removed = ''.join([letter for letter in word if not letter in PUNCTUATION])???\n",
    "    stemmed =  [porter.stem(w.strip(string.punctuation)) for w in re.split(' +', clean_txt) \\\n",
    "            if w not in stop_words_lst]\n",
    "    return [w for w in stemmed if w != '']   "
   ]
  },
  {
   "cell_type": "code",
   "execution_count": 13,
   "metadata": {
    "collapsed": false
   },
   "outputs": [],
   "source": [
    "name_article_html = 'raw_html'\n",
    "name_url = 'url'\n",
    "name_textcontent = 'textcontent'\n",
    "\n",
    "mongo_client = MongoClient()\n",
    "links_collection, articles_collection = get_mongodb_collections(mongo_client)\n",
    "l = []\n",
    "query = {name_textcontent:{'$exists': 1},name_article_html:{'$exists':1}}\n",
    "articles = list(articles_collection.find(query))\n",
    "for a in articles:\n",
    "    article_id = a['_id']\n",
    "    txt = tokenize(a[name_textcontent])\n",
    "    l.append(len(txt))\n",
    "    \n",
    "\n",
    "    \n"
   ]
  },
  {
   "cell_type": "code",
   "execution_count": 14,
   "metadata": {
    "collapsed": false
   },
   "outputs": [
    {
     "data": {
      "text/plain": [
       "287"
      ]
     },
     "execution_count": 14,
     "metadata": {},
     "output_type": "execute_result"
    }
   ],
   "source": [
    "len(articles)"
   ]
  },
  {
   "cell_type": "code",
   "execution_count": 20,
   "metadata": {
    "collapsed": false
   },
   "outputs": [
    {
     "data": {
      "image/png": "[encoded data removed]",
      "text/plain": [
       "<matplotlib.figure.Figure at 0x10a78ddd0>"
      ]
     },
     "metadata": {},
     "output_type": "display_data"
    }
   ],
   "source": [
    "l = np.array(l)\n",
    "plt.hist(l[l<5000],bins=50)\n",
    "plt.show()"
   ]
  },
  {
   "cell_type": "code",
   "execution_count": 23,
   "metadata": {
    "collapsed": false
   },
   "outputs": [
    {
     "name": "stdout",
     "output_type": "stream",
     "text": [
      "100 53\n",
      "5000 2\n"
     ]
    }
   ],
   "source": [
    "print 100, len(l[l<100])\n",
    "print 5000, len(l[l>5000])"
   ]
  },
  {
   "cell_type": "code",
   "execution_count": 22,
   "metadata": {
    "collapsed": false
   },
   "outputs": [
    {
     "data": {
      "text/plain": [
       "2"
      ]
     },
     "execution_count": 22,
     "metadata": {},
     "output_type": "execute_result"
    }
   ],
   "source": []
  },
  {
   "cell_type": "code",
   "execution_count": null,
   "metadata": {
    "collapsed": true
   },
   "outputs": [],
   "source": []
  }
 ],
 "metadata": {
  "kernelspec": {
   "display_name": "Python 2",
   "language": "python",
   "name": "python2"
  },
  "language_info": {
   "codemirror_mode": {
    "name": "ipython",
    "version": 2
   },
   "file_extension": ".py",
   "mimetype": "text/x-python",
   "name": "python",
   "nbconvert_exporter": "python",
   "pygments_lexer": "ipython2",
   "version": "2.7.9"
  }
 },
 "nbformat": 4,
 "nbformat_minor": 0
}
