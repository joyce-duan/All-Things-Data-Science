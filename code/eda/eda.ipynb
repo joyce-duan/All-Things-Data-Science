{
 "cells": [
  {
   "cell_type": "code",
   "execution_count": 161,
   "metadata": {
    "collapsed": false
   },
   "outputs": [],
   "source": [
    "from pymongo import MongoClient\n",
    "import string\n",
    "import json \n",
    "import pickle as pkl\n",
    "import pandas as pd\n",
    "import numpy as np\n",
    "from nltk.corpus import stopwords\n",
    "from collections import Counter\n",
    "from nltk.stem.snowball import SnowballStemmer\n",
    "from nltk.stem.porter import PorterStemmer\n",
    "from urllib3.util import parse_url\n",
    "import re\n",
    "import time\n",
    "import matplotlib.pyplot as plt\n",
    "from sklearn.metrics.pairwise import linear_kernel\n",
    "\n",
    "%matplotlib inline\n",
    "\n",
    "pd.set_option('display.mpl_style', 'default') # Make the graphs a bit prettier\n",
    "plt.rcParams['figure.figsize'] = (15, 5)"
   ]
  },
  {
   "cell_type": "code",
   "execution_count": 111,
   "metadata": {
    "collapsed": false
   },
   "outputs": [],
   "source": [
    "import sys\n",
    "sys.path.append('../db')\n",
    "from mongo import MyMongo"
   ]
  },
  {
   "cell_type": "markdown",
   "metadata": {},
   "source": [
    "## read in articles from mongo db, clean, merge, tfidf"
   ]
  },
  {
   "cell_type": "code",
   "execution_count": 3,
   "metadata": {
    "collapsed": true
   },
   "outputs": [],
   "source": [
    "def clean_articles(cur_articles, articles_cleaned):\n",
    "    articles = list(cur_articles)\n",
    "    print '%d articles found' % len(articles)\n",
    "    counter = 0\n",
    "    for a in articles:\n",
    "    #for a in cur_articles:\n",
    "        url = a['url']\n",
    "        body_text = a['body_text']\n",
    "        l = len(body_text)\n",
    "        if l > articles_cleaned.get(url,[0])[0]:\n",
    "            articles_cleaned[url] = [len(body_text),body_text]"
   ]
  },
  {
   "cell_type": "code",
   "execution_count": 4,
   "metadata": {
    "collapsed": false
   },
   "outputs": [
    {
     "name": "stdout",
     "output_type": "stream",
     "text": [
      "atds links\n",
      "0 unique articles \n",
      "815 articles found\n",
      "791 unique articles \n"
     ]
    }
   ],
   "source": [
    "my_mongo = MyMongo()\n",
    "\n",
    "articles_cleaned = {}\n",
    "print '%d unique articles ' % len(articles_cleaned)\n",
    "\n",
    "cur_articles = my_mongo.get_article_body_text(testing=0)\n",
    "clean_articles(cur_articles, articles_cleaned)\n",
    "print '%d unique articles ' % len(articles_cleaned)"
   ]
  },
  {
   "cell_type": "code",
   "execution_count": 5,
   "metadata": {
    "collapsed": false
   },
   "outputs": [
    {
     "name": "stdout",
     "output_type": "stream",
     "text": [
      "nytimes links\n",
      "488 articles found\n",
      "1267 unique articles \n"
     ]
    }
   ],
   "source": [
    "my_mongo_nytimes = MyMongo(dbname  = 'nytimes')\n",
    "cur_articles = my_mongo_nytimes.get_article_body_text(testing=0)\n",
    "clean_articles(cur_articles, articles_cleaned)\n",
    "print '%d unique articles ' % len(articles_cleaned)"
   ]
  },
  {
   "cell_type": "code",
   "execution_count": 6,
   "metadata": {
    "collapsed": false
   },
   "outputs": [],
   "source": [
    "df = pd.DataFrame([{'url':k,'body_text':v[1]} for k, v in articles_cleaned.items()])"
   ]
  },
  {
   "cell_type": "code",
   "execution_count": 7,
   "metadata": {
    "collapsed": false
   },
   "outputs": [
    {
     "data": {
      "text/html": [
       "<div style=\"max-height:1000px;max-width:1500px;overflow:auto;\">\n",
       "<table border=\"1\" class=\"dataframe\">\n",
       "  <thead>\n",
       "    <tr style=\"text-align: right;\">\n",
       "      <th></th>\n",
       "      <th>body_text</th>\n",
       "      <th>url</th>\n",
       "    </tr>\n",
       "  </thead>\n",
       "  <tbody>\n",
       "    <tr>\n",
       "      <th>0</th>\n",
       "      <td>Data Science in Python Tutorial, free tutorial...</td>\n",
       "      <td>http://www.kdnuggets.com/2014/01/top-tweets-ja...</td>\n",
       "    </tr>\n",
       "    <tr>\n",
       "      <th>1</th>\n",
       "      <td>A list of 150 Most Influential People on Twitt...</td>\n",
       "      <td>http://www.kdnuggets.com/2015/05/greycampus-15...</td>\n",
       "    </tr>\n",
       "    <tr>\n",
       "      <th>2</th>\n",
       "      <td>SAN FRANCISCO —  When bankers of the future de...</td>\n",
       "      <td>http://www.nytimes.com/2015/01/19/technology/b...</td>\n",
       "    </tr>\n",
       "  </tbody>\n",
       "</table>\n",
       "</div>"
      ],
      "text/plain": [
       "                                           body_text  \\\n",
       "0  Data Science in Python Tutorial, free tutorial...   \n",
       "1  A list of 150 Most Influential People on Twitt...   \n",
       "2  SAN FRANCISCO —  When bankers of the future de...   \n",
       "\n",
       "                                                 url  \n",
       "0  http://www.kdnuggets.com/2014/01/top-tweets-ja...  \n",
       "1  http://www.kdnuggets.com/2015/05/greycampus-15...  \n",
       "2  http://www.nytimes.com/2015/01/19/technology/b...  "
      ]
     },
     "execution_count": 7,
     "metadata": {},
     "output_type": "execute_result"
    }
   ],
   "source": [
    "df.head(3)"
   ]
  },
  {
   "cell_type": "code",
   "execution_count": 297,
   "metadata": {
    "collapsed": false
   },
   "outputs": [
    {
     "name": "stdout",
     "output_type": "stream",
     "text": [
      "atds links\n",
      "nytimes links\n"
     ]
    }
   ],
   "source": [
    "\n",
    "article_dict =  MyMongo().get_article_attri()\n",
    "article_dict2 =  MyMongo(dbname  = 'nytimes').get_article_attri()\n",
    "article_dict_all = dict(article_dict, **article_dict2)"
   ]
  },
  {
   "cell_type": "code",
   "execution_count": 303,
   "metadata": {
    "collapsed": false
   },
   "outputs": [
    {
     "name": "stdout",
     "output_type": "stream",
     "text": [
      "Creditworthy? Lets Consider Capitalization\n",
      "Creditworthy? Let’s Consider Capitalization\n"
     ]
    }
   ],
   "source": [
    "print article_dict2.items()[0][1].encode('ascii', 'ignore')\n",
    "print article_dict2.items()[0][1].encode('utf8', 'ignore')"
   ]
  },
  {
   "cell_type": "code",
   "execution_count": 144,
   "metadata": {
    "collapsed": false,
    "scrolled": true
   },
   "outputs": [
    {
     "name": "stdout",
     "output_type": "stream",
     "text": [
      "(1231, 6)\n",
      "www.kdnuggets.com         357\n",
      "www.nytimes.com           329\n",
      "bits.blogs.nytimes.com    104\n",
      "fivethirtyeight.com        56\n",
      "www.youtube.com            13\n",
      "dealbook.nytimes.com       11\n",
      "medium.com                 10\n",
      "cloudacademy.com           10\n",
      "dtype: int64\n",
      "0.72298943948\n",
      "234\n"
     ]
    }
   ],
   "source": [
    "print df2.shape\n",
    "print pd.value_counts(df2['uri'])[:8]\n",
    "print 1.0 *pd.value_counts(df2['uri'])[:8].sum()/df2.shape[0]\n",
    "print df2.uri.nunique()"
   ]
  },
  {
   "cell_type": "code",
   "execution_count": 128,
   "metadata": {
    "collapsed": false
   },
   "outputs": [
    {
     "name": "stdout",
     "output_type": "stream",
     "text": [
      "http://example.com/random/folder/path.html\n"
     ]
    }
   ],
   "source": [
    "url = 'http://example.com/random/folder/path.html'\n",
    "print parse_url(url)\n"
   ]
  },
  {
   "cell_type": "code",
   "execution_count": 134,
   "metadata": {
    "collapsed": false
   },
   "outputs": [
    {
     "data": {
      "text/plain": [
       "'google.com'"
      ]
     },
     "execution_count": 134,
     "metadata": {},
     "output_type": "execute_result"
    }
   ],
   "source": [
    "parse_url('http://google.com/mail/').host\n",
    "\n",
    "#Url(scheme='http', host='google.com', port=None, path='/')"
   ]
  },
  {
   "cell_type": "code",
   "execution_count": 172,
   "metadata": {
    "collapsed": false
   },
   "outputs": [
    {
     "name": "stderr",
     "output_type": "stream",
     "text": [
      "/Users/joyceduan/anaconda/lib/python2.7/site-packages/IPython/kernel/__main__.py:1: SettingWithCopyWarning: \n",
      "A value is trying to be set on a copy of a slice from a DataFrame.\n",
      "Try using .loc[row_indexer,col_indexer] = value instead\n",
      "\n",
      "See the the caveats in the documentation: http://pandas.pydata.org/pandas-docs/stable/indexing.html#indexing-view-versus-copy\n",
      "  if __name__ == '__main__':\n"
     ]
    },
    {
     "data": {
      "text/plain": [
       "www.kdnuggets.com         357\n",
       "www.nytimes.com           329\n",
       "bits.blogs.nytimes.com    104\n",
       "fivethirtyeight.com        56\n",
       "www.youtube.com            13\n",
       "dealbook.nytimes.com       11\n",
       "medium.com                 10\n",
       "cloudacademy.com           10\n",
       "github.com                 10\n",
       "radar.oreilly.com           8\n",
       "dtype: int64"
      ]
     },
     "execution_count": 172,
     "metadata": {},
     "output_type": "execute_result"
    }
   ],
   "source": [
    "df2['uri'] = df2['url'].map(lambda x: parse_url(x).host)\n",
    "#df2.head(2)\n",
    "pd.value_counts(df2['uri'])[:10]\n",
    "\n"
   ]
  },
  {
   "cell_type": "code",
   "execution_count": 8,
   "metadata": {
    "collapsed": false
   },
   "outputs": [],
   "source": [
    "from sklearn.decomposition import NMF\n",
    "from nltk.corpus import stopwords\n",
    "from nltk.tokenize import word_tokenize\n",
    "from nltk.stem.porter import PorterStemmer\n",
    "from nltk.stem.snowball import SnowballStemmer\n",
    "from nltk.stem.wordnet import WordNetLemmatizer\n",
    "from sklearn.feature_extraction.text import CountVectorizer, TfidfVectorizer"
   ]
  },
  {
   "cell_type": "code",
   "execution_count": 9,
   "metadata": {
    "collapsed": false
   },
   "outputs": [],
   "source": [
    "def tokenize(doc):\n",
    "        '''\n",
    "        Tokenize and stem/lemmatize the document.\n",
    "            - INPUT: string\n",
    "            - OUTPUT: list of strings\n",
    "\n",
    "        '''\n",
    "        snowball = SnowballStemmer('english')\n",
    "        #print type(doc), type([snowball.stem(word) for word in word_tokenize(doc.lower())])\n",
    "        #print len(doc), len([snowball.stem(word) for word in word_tokenize(doc.lower())])\n",
    "        words = []\n",
    "        for word in word_tokenize(doc.strip().lower()):\n",
    "            try:\n",
    "                # .decode('utf-8'\n",
    "                t = word.encode('ascii', 'ignore')\n",
    "                words.append(t)                \n",
    "            except:\n",
    "                 t = ''\n",
    "        return [snowball.stem(word) for word in words]\n",
    "\n",
    "def fit_tfidf(docs):\n",
    "    '''\n",
    "        - INPUT: X. list of string\n",
    "        - OUPUT: list of list\n",
    "    '''\n",
    "    tokenized_articles = [tokenize(doc) for doc in docs]\n",
    "    vectorizer = TfidfVectorizer(stop_words = 'english', max_features = 5000)\n",
    "    documents = [' '.join(article) for article in tokenized_articles]\n",
    "    vectorizer =  vectorizer.fit(documents)\n",
    "\n",
    "    vectors_doc = vectorizer.transform(documents).todense()\n",
    "    return vectorizer, vectors_doc, tokenized_articles\n",
    "\n",
    "def transform_tfidf(vectorizer, docs):\n",
    "    '''\n",
    "    transform text to tfidf\n",
    "        - INPUT:  list of string :  (string / text)\n",
    "        - OUTOUT: list of float\n",
    "    '''\n",
    "    tokenized_articles = [tokenize(doc) for doc in docs]\n",
    "    documents = [' '.join(article) for article in tokenized_articles]\n",
    "    return vectorizer.transform(documents).todense(), tokenized_articles\n"
   ]
  },
  {
   "cell_type": "code",
   "execution_count": 10,
   "metadata": {
    "collapsed": true
   },
   "outputs": [],
   "source": [
    "def run_nmf(X, n_topics=20, **kwargs):\n",
    "    '''\n",
    "    NMF on the TF-IDF feature matrix to create a topic model.\n",
    "        - INPUT:  \n",
    "            X: 2d numpy array \n",
    "            n_topics: int \n",
    "            **kwargs: NMF parameters\n",
    "        - OUTPUT: \n",
    "             W (Article-Topic matrix):2d numpy array\n",
    "            H (Topic-Term matrix): 2d numpy array \n",
    "    '''\n",
    "    nmf = NMF(n_components=n_topics, **kwargs)\n",
    "    W = nmf.fit_transform(X)\n",
    "    H = nmf.components_\n",
    "    return W, H, nmf"
   ]
  },
  {
   "cell_type": "code",
   "execution_count": 27,
   "metadata": {
    "collapsed": false
   },
   "outputs": [],
   "source": [
    "txt_list = df.body_text\n",
    "vectorizer, vectorized_X, tokenized_articles = fit_tfidf(txt_list)\n",
    "df['len'] = [len(t) for t in tokenized_articles]\n",
    "df['tokens'] = tokenized_articles"
   ]
  },
  {
   "cell_type": "markdown",
   "metadata": {},
   "source": [
    "## Run NMF for topic modeling"
   ]
  },
  {
   "cell_type": "code",
   "execution_count": 12,
   "metadata": {
    "collapsed": false
   },
   "outputs": [],
   "source": [
    "#vectorized_X, tokenized_articles = transform_tfidf(vectorizer, txt_list)"
   ]
  },
  {
   "cell_type": "code",
   "execution_count": 42,
   "metadata": {
    "collapsed": true
   },
   "outputs": [],
   "source": [
    "cond = df['len'] >= 50  # only keeps articles with at least 50 words\n",
    "df2 = df[cond]\n",
    "irows = [i for i in xrange(vectorized_X.shape[0]) if cond[i]]\n",
    "X2 =vectorized_X[np.ix_(irows)]\n",
    "url_list2 = df2['url']"
   ]
  },
  {
   "cell_type": "code",
   "execution_count": 352,
   "metadata": {
    "collapsed": true
   },
   "outputs": [],
   "source": [
    "idx_df = list(df2.index)"
   ]
  },
  {
   "cell_type": "code",
   "execution_count": 304,
   "metadata": {
    "collapsed": false
   },
   "outputs": [
    {
     "name": "stderr",
     "output_type": "stream",
     "text": [
      "/Users/joyceduan/anaconda/lib/python2.7/site-packages/IPython/kernel/__main__.py:1: SettingWithCopyWarning: \n",
      "A value is trying to be set on a copy of a slice from a DataFrame.\n",
      "Try using .loc[row_indexer,col_indexer] = value instead\n",
      "\n",
      "See the the caveats in the documentation: http://pandas.pydata.org/pandas-docs/stable/indexing.html#indexing-view-versus-copy\n",
      "  if __name__ == '__main__':\n"
     ]
    }
   ],
   "source": [
    "df2['title'] = df2['url'].map(lambda x: article_dict_all.get(x,'Unknown'))"
   ]
  },
  {
   "cell_type": "code",
   "execution_count": 45,
   "metadata": {
    "collapsed": false
   },
   "outputs": [],
   "source": [
    "W, H = run_nmf(X2 )"
   ]
  },
  {
   "cell_type": "code",
   "execution_count": 75,
   "metadata": {
    "collapsed": false
   },
   "outputs": [
    {
     "name": "stdout",
     "output_type": "stream",
     "text": [
      " w  (1231, 20) h (20, 5000)\n"
     ]
    }
   ],
   "source": [
    "print 'w ', W.shape, 'h', H.shape"
   ]
  },
  {
   "cell_type": "code",
   "execution_count": 83,
   "metadata": {
    "collapsed": false
   },
   "outputs": [
    {
     "name": "stdout",
     "output_type": "stream",
     "text": [
      "(1231, 20) (20, 1231)\n",
      "<type 'numpy.ndarray'>\n",
      "1231 [ 0.01091977  0.07957878  0.01727397 ..., -0.          0.02511491\n",
      "  0.05005001]\n"
     ]
    }
   ],
   "source": [
    "W_t = (W.T)\n",
    "print W.shape, W_t.shape\n",
    "print type(W_t)\n",
    "print len(W_t[0,]), W_t[0]"
   ]
  },
  {
   "cell_type": "code",
   "execution_count": 114,
   "metadata": {
    "collapsed": false
   },
   "outputs": [
    {
     "name": "stdout",
     "output_type": "stream",
     "text": [
      "Topic #0:\n",
      "top terms:  data (27.02), big (8.30), scienc (7.20), scientist (5.82), busi (2.35)\n",
      "-------\n",
      "****  0 . (0.23)) Comments on “Why your company should NOT use Big Data”\n",
      "http://www.kdnuggets.com/2014/02/comments-why-your-company-should-not-use-big-data.html\n",
      "comments\n",
      "By Gregory Piatetsky, Feb 10, 2014.\n",
      "The guest post in KDnuggets by Edward Nevraumont, Viewpoint: Why your company should NOT use \"Big Data\" ,  has generated quite a lot of heat and some light, and here are  selected comments from LinkedIn (mainly from  Advanced Business Analytics, Data Mining and Predictive Modeling group).\n",
      "In my opinion, while Big Data is extremely useful for large compa\n",
      "\n",
      "****  1 . (0.23)) The Data Science Handbook: Interviews with 25 Data Scientists \n",
      "http://www.thedatasciencehandbook.com/\n",
      "Conversations With 25 Data Scientists\n",
      " \n",
      "What's Inside The Book?\n",
      "The Data Science Handbook is a compilation of in-depth interviews with 25 remarkable data scientists, where they share their insights, stories, and advice.\n",
      "  \n",
      "These 25 data scientists hail from a wide selection of backgrounds, disciplines, and industries.\n",
      " \n",
      "Some of them, like DJ Patil and Hilary Mason, were part of the trailblazing wa\n",
      "\n",
      "****  2 . (0.23)) \n",
      "http://www.nytimes.com/2014/08/18/technology/for-big-data-scientists-hurdle-to-insights-is-janitor-work.html\n",
      "Technology revolutions come in measured, sometimes foot-dragging steps. The lab science and marketing enthusiasm tend to underestimate the bottlenecks to progress that must be overcome with hard work and practical engineering. The field known as “big data” offers a contemporary case study. The catchphrase stands for the modern abundance of digital data from many sources — the web, sensors, smartph\n",
      "\n",
      "****  3 . (0.22)) KDnuggets Exclusive: Interview with Anjul Bhambhri, VP of Big Data Products at IBM\n",
      "http://www.kdnuggets.com/2014/03/exclusive-interview-anjul-bhambhri-big-data-products-ibm.html\n",
      "By Anmol Rajpurohit , Mar 24, 2014.\n",
      "Anjul Bhambhri is currently IBM’s Vice President of Big Data Products, overseeing product strategy, development and business partnerships. Previously at IBM, Anjul focused on application and data lifecycle management tools and spearheaded the development of XML capabilities in DB2 database server. She has 25 years of experience in the database industry and has h\n",
      "\n",
      "****  4 . (0.20)) IEEE Rock Stars of Big Data Presentations\n",
      "http://www.kdnuggets.com/2014/01/ieee-rock-stars-big-data-presentations.html\n",
      "This event, held at the Computer History Museum in Oct 2013, attracted a sold-out crowd who listened to 9 excellent speakers and leaders in the field - here are the presentations.\n",
      "By Gregory Piatetsky, Jan 7, 2014.\n",
      "IEEE Rock Stars of Big Data was held at the Computer History Museum Oct 29, 2013. It was a sold-out event, with over 325 attendees who listened to 9 excellent speakers - see presentatio\n",
      "\n",
      "\n",
      "Topic #1:\n",
      "top terms:  ly (21.46), buff (17.88), bigdata (5.88), datasci (3.51), tweet (3.27)\n",
      "-------\n",
      "****  0 . (0.45)) Best KDnuggets tweets in January: Data Science Venn Diagram v2.0: “unicorns”; Great map of #DataScience skills\n",
      "http://www.kdnuggets.com/2014/02/best-tweets-in-january.html\n",
      "Tags: Caltech , Data Science , Dilbert , Online Education , Skills , Unicorn , Venn Diagram\n",
      "Data Science Venn Diagram v2.0 - how to find \"unicorn\" data scientist; Great map of #DataScience skills (Biz, ML, #BigData, Coding, Stats) vs Roles; Dilbert takes on #BigData Analysis and Salaries of Top Performers - hilarious! Learning from Data: Caltech free online course, now with captions in 40+ languag\n",
      "\n",
      "****  1 . (0.43)) Top KDnuggets tweets, Mar 26-27: Watch “Statistics with R for newbies”; Coursera free #DataScience courses\n",
      "http://www.kdnuggets.com/2014/03/top-tweets-mar26-27.html\n",
      "Watch \"Statistics with R for newbies\" - 58 videos playlist #rstats buff.ly/1p7UneA\n",
      "Most Favorited:\n",
      "Watch \"Statistics with R for newbies\" - 58 videos playlist #rstats buff.ly/1p7UneA\n",
      "Top 10 Tweets\n",
      "Watch \"Statistics with R for newbies\" - 58 videos playlist #rstats buff.ly/1p7UneA\n",
      "Coursera offers free #DataScience courses from Johns Hopkins, Duke, Stanford #MOOC #BigData buff.ly/1g4IjUC\n",
      "Free eBOOK: P\n",
      "\n",
      "****  2 . (0.43)) December Analytics, Big Data, Data Mining Companies and Startups Activity\n",
      "http://www.kdnuggets.com/2014/01/december-analytics-big-data-mining-company-activity.html\n",
      "December 2013 acquisitions, startups, and company activity in Analytics, Big Data, Data Mining, and Data Science: Answers.com, Talend, Palantir, KPMG, Datameer, Dell\n",
      "By Gregory Piatetsky, Jan 7, 2014.\n",
      "Here is the company, startup, and acquisition activity for December 2013 from @kdnuggets . See the latest under hashtag #BigDataCo .\n",
      "FirstFuel Software, which uses data analytics to reduce building e\n",
      "\n",
      "****  3 . (0.42)) Top KDnuggets tweets, Mar 12-13: Machine learning explained in 10 pictures; Tutorial: Using Google BigQuery\n",
      "http://www.kdnuggets.com/2014/03/top-tweets-mar12-13.html\n",
      "A Tutorial example: Using Google BigQuery with R, bigrquery package #rstats - query 36GB dataset in 2 seconds! buff.ly/1kPfvqO\n",
      "Visualizing Google Analytics Data With R #rstats [Tutorial] buff.ly/1gr2OLJ\n",
      "Exploratory Data Analysis: Investigate, Visualize, and Summarize Data Using R - Udacity online course buff.ly/1cVMA1Y\n",
      "Comparing #Python vs #Julia on isotonic regression algorithm for machine learni\n",
      "\n",
      "****  4 . (0.42)) Top KDnuggets tweets, Mar 19-20: Bitcoin 101 – everything you need to know; Top IPython Notebooks at #strataconf\n",
      "http://www.kdnuggets.com/2014/03/top-tweets-mar19-20.html\n",
      "IBM creates fraud & financial crimes prevention unit, combining #BigData Analytics, Business know-how & Data viz buff.ly/1r0rLpN\n",
      "Most Favorited:\n",
      "Bitcoin 101 - covers everything you need to know, how it is traded, history, and future buff.ly/NvoHSm\n",
      "Top 10 Tweets\n",
      "Bitcoin 101 - covers everything you need to know, how it is traded, history, and future buff.ly/NvoHSm\n",
      "At #strataconf IPython Notebooks we\n",
      "\n",
      "\n",
      "Topic #2:\n",
      "top terms:  privaci (7.48), said (4.21), law (3.81), inform (3.74), consum (3.58)\n",
      "-------\n",
      "****  0 . (0.34)) \n",
      "http://www.nytimes.com/2015/02/28/business/white-house-proposes-broad-consumer-data-privacy-bill.html\n",
      "The Obama administration on Friday proposed a wide-ranging bill intended to provide Americans with more control over the personal information that companies collect about them and how that data can be used, fulfilling a promise the president had talked about for years. But some privacy advocates immediately jumped on the proposed legislation, saying it failed to go far enough, particularly given t\n",
      "\n",
      "****  1 . (0.33)) \n",
      "http://www.nytimes.com/2014/05/02/us/white-house-report-calls-for-transparency-in-online-data-collection.html\n",
      "WASHINGTON —  The White House, hoping to move the national debate over privacy beyond the National Security Agency’s surveillance activities to the practices of companies like Google and Facebook, released a long-anticipated report on Thursday that recommends developing government limits on how private companies make use of the torrent of information they gather from their customers online. The re\n",
      "\n",
      "****  2 . (0.31)) \n",
      "http://www.nytimes.com/2015/01/12/us/politics/obama-to-call-for-laws-covering-data-hacking-and-student-privacy.html\n",
      "WASHINGTON — President Obama on Monday called for federal legislation intended to force American companies to be more forthcoming when credit card data and other consumer information are lost in an online breach like the kind that hit Sony, Target and Home Depot last year. The Personal Data Notification and Protection Act would demand a single, national standard requiring companies to inform their\n",
      "\n",
      "****  3 . (0.31)) \n",
      "http://www.nytimes.com/reuters/2014/05/01/technology/01reuters-usa-obama-privacy.html\n",
      "WASHINGTON —  The White House on Thursday suggested updates to laws and other measures to enhance privacy and prevent discrimination based on the data trail left by consumers on their phones and computers that companies and researchers collect and analyze. Both privacy advocates and tech groups found something to like within the 90-day \"Big Data\" review, led by John Podesta, a top advisor to Presi\n",
      "\n",
      "****  4 . (0.30)) \n",
      "http://www.nytimes.com/2014/05/12/opinion/a-long-way-to-privacy-safeguards.html\n",
      "A new White House report on “big data” and privacy includes several recommendations that could help protect the personal information of individuals from warrantless searches and abusive marketing practices. But it still does not do enough to advance the goal President Obama set two years ago for “clear rules of the road” on privacy. In January, Mr. Obama asked John Podesta, a senior adviser, to ta\n",
      "\n",
      "\n",
      "Topic #3:\n",
      "top terms:  student (13.50), school (7.75), colleg (7.73), educ (5.85), teacher (5.51)\n",
      "-------\n",
      "****  0 . (0.33)) \n",
      "http://www.nytimes.com/2014/12/03/opinion/blowing-off-class-we-know.html\n",
      "THE stuff some colleges know right now about their students, thanks to data-mining of their digital footprints, boggles the mind. It may even seem a bit creepy. Has their attendance slipped? Have they stopped logging in to read course packets or file assignments? Did they just drop the very class they needed for their major? Tools developed in-house and by a slew of companies now give administrato\n",
      "\n",
      "****  1 . (0.32)) \n",
      "http://www.nytimes.com/2015/04/26/upshot/college-for-the-masses.html\n",
      "Growing up in Miami in the 1990s, Carlos Escanilla was a lot more interested in hanging out with friends and playing music than in school. The son of immigrants from Chile, he slogged through high school with a C+ average and scored about 900 out of 1,600 on the SAT. “I was convinced I was going to be a famous rock star,” Mr. Escanilla, now 36, said. When people talk about four-year colleges not b\n",
      "\n",
      "****  2 . (0.32)) Loan Forgiveness For Bad-Faith, Not Bad-Bargain Schools\n",
      "http://fivethirtyeight.com/datalab/loan-forgiveness-for-bad-faith-not-bad-bargain-schools/\n",
      "Loan Forgiveness For Bad-Faith, Not Bad-Bargain Schools\n",
      "5:08 PMJun 9, 2015 By Leah Libresco\n",
      "Students wait outside Everest College, a division of the bankrupt Corinthian system, in April  in Industry, California, hoping to get their transcripts and information on loan forgiveness.\n",
      "Christine Armario / AP\n",
      "Under the new guidelines for student loan forgiveness, the little advertising mailers that your \n",
      "\n",
      "****  3 . (0.31)) \n",
      "http://www.nytimes.com/2015/03/23/technology/bill-would-limit-use-of-student-data.html\n",
      "Is the digital revolution in the classroom giving the education technology industry carte blanche to exploit student data? That was the question some teacher and parents groups have posed in their public responses to the news last week that Pearson, the education publisher, had been covertly monitoring social media sites to identify students who might have disclosed questions from its assessment t\n",
      "\n",
      "****  4 . (0.31)) \n",
      "http://www.nytimes.com/2014/05/18/magazine/who-gets-to-graduate.html\n",
      "For as long as she could remember, Vanessa Brewer had her mind set on going to college. The image of herself as a college student appealed to her — independent, intelligent, a young woman full of potential — but it was more than that; it was a chance to rewrite the ending to a family story that went off track 18 years earlier, when Vanessa’s mother, then a high-achieving high-school senior in a sm\n",
      "\n",
      "\n",
      "Topic #4:\n",
      "top terms:  model (14.18), predict (8.16), dataset (5.24), train (4.01), use (3.18)\n",
      "-------\n",
      "****  0 . (0.32)) Data Mining for Beginners Boot Camp, Salford video series\n",
      "http://www.kdnuggets.com/2014/01/data-mining-for-beginners-boot-camp-salford-video-series.html\n",
      "a new video series\n",
      "from Salford Systems.\n",
      "1.     Opening and Working with a Data File: We introduce a typical banking dataset in an excel spreadsheet and make initial observations. Our modeling goal is to determine what drives the account going delinquent and what is associated with it? We will review the key predictive variables available and use the View Data button to see in the inside of the da\n",
      "\n",
      "****  1 . (0.29)) BigML: Machine Learning made easy \n",
      "http://cloudacademy.com/blog/bigml-machine-learning/\n",
      "You are in Cloud Academy > Blog > BigML: Machine Learning made easy\n",
      "BigML: Machine Learning made easy\n",
      "May 20, 2015\n",
      "by Alex Casalboni\n",
      "BigML offers a managed platform to build and share your datasets and models\n",
      "Machine Learning as a Service (MLaaS) has become a real thing in the Cloud market and BigML ‘s mission is simple and clear: making Machine Learning easy, beautiful and understandable for ever\n",
      "\n",
      "****  2 . (0.29)) Benchmark: Machine Learning model training, evaluation Amazon vs Google vs Azure \n",
      "https://blog.onliquid.com/machine-learning-services-2/\n",
      "Machine Learning as a Service 2\n",
      "02 June 2015\n",
      "This post is the second part of a comparison between Amazon, Google, and Microsoft machine learning services. Read all about data sourcing and preprocessing using these three services in Part I .\n",
      "Welcome back! A few weeks ago we started a comparison on three machine learning services: Amazon Machine Learning Service , Google Prediction API , and Microso\n",
      "\n",
      "****  3 . (0.26)) Amazon Machine Learning: use cases and a real example in Python \n",
      "http://cloudacademy.com/blog/aws-machine-learning/?utm_source=datau.com&utm_medium=social&utm_campaign=Blogpost\n",
      "You are in Cloud Academy > Blog > Amazon Machine Learning: use cases and a real example in Python\n",
      "Amazon Machine Learning: use cases and a real example in Python\n",
      "April 27, 2015\n",
      "by Alex Casalboni\n",
      "What is Amazon Machine Learning\n",
      "Amazon Machine Learning is a service that makes it easy for developers of all skill levels to use machine learning technology.”\n",
      "UPDATE: I have just published a new hands-on \n",
      "\n",
      "****  4 . (0.26)) Amazon Machine Learning: use cases and a real example in Python \n",
      "http://cloudacademy.com/blog/aws-machine-learning/?utm_source=reddit.com&utm_medium=social&utm_campaign=Blogpost\n",
      "You are in Cloud Academy > Blog > Amazon Machine Learning: use cases and a real example in Python\n",
      "Amazon Machine Learning: use cases and a real example in Python\n",
      "April 27, 2015\n",
      "by Alex Casalboni\n",
      "What is Amazon Machine Learning\n",
      "Amazon Machine Learning is a service that makes it easy for developers of all skill levels to use machine learning technology.”\n",
      "UPDATE: I have just published a new hands-on \n",
      "\n",
      "\n",
      "Topic #5:\n",
      "top terms:  analyt (20.07), busi (5.38), predict (3.56), custom (2.96), confer (2.95)\n",
      "-------\n",
      "****  0 . (0.30)) 10 Most Influential Analytics Leaders in India\n",
      "http://www.kdnuggets.com/2014/02/10-most-influential-analytics-leaders-india.html\n",
      "Analytics India Magazine’s annual ranking of the 10 Most Influential Analytics Leaders in India, in terms of Impact, Leadership, Entrepreneurship and Analytics evangelism.\n",
      "Pankaj Kulshreshtha – Business Leader, Analytics & Research at Genpact\n",
      "Pankaj leads the Analytics and Research practice globally at Genpact. This practice is part of Genpact’s Smart Decision Services that enables clients across \n",
      "\n",
      "****  1 . (0.25)) Is\n",
      "Analytics Career Right for You?\n",
      "http://www.kdnuggets.com/2015/06/analytics-career-right-for-you.html\n",
      "comments\n",
      "By Ajay Bhargava\n",
      "In the last 20 years, the exponential growth in data generated by people and objects has far outpaced the growth in talented resources that can derive value out of it. In an attempt to fill the gargantuan gap between supply and demand [1], many university graduate programs have sprung up (particularly in the last five years), offering a degree in analytics, but clearly th\n",
      "\n",
      "****  2 . (0.24)) TDWI\n",
      "Boston, July 26-31, 2015 – The Analytics Experience\n",
      "http://www.kdnuggets.com/2015/06/tdwi-boston-2015-analytics-experience.html\n",
      "Tags: Boston , MA , TDWI\n",
      "Join us at The Analytics Experience to explore the art and science of realizing business value from data. We are bringing together industry experts, solution providers, and practitioners to dig deep into analytics competencies, practices, and technologies. Special 10% Discount code before June 26.\n",
      "TDWI Boston is shaping up to be the biggest analytics event of the year\n",
      "Join\n",
      "\n",
      "****  3 . (0.23)) 10 Emerging Analytics Startups in India\n",
      "http://www.kdnuggets.com/2014/02/10-emerging-analytics-startups-india.html\n",
      "India is becoming a powerhouse in Analytics, and here are 10 emerging Indian Analytics startups to watch in 2014: Crayon Data, Flutura, Axtria, Flytxt, Sapience Analytics, SIBIA Analytics, Ideal Analytics, FORMCEPT, IQR Consulting, and StatLabs.\n",
      "Here are 10 Emerging Indian Analytics Startups, as selected by Analytics India magazine:\n",
      "Crayon Data\n",
      "Founded in Singapore in 2012 and with a development c\n",
      "\n",
      "****  4 . (0.23)) INFORMS Business Analytics and Operations Research, Boston, Mar 30 – Apr 1\n",
      "http://www.kdnuggets.com/2014/02/informs-business-analytics-operations-research-boston-march-30.html\n",
      "INFORMS Conference on Business Analytics and Operations Research\n",
      "March 30 - April 1, Westin Boston Waterfront, Boston, MA\n",
      "The industry's top analytics conference features more than 100 practical talks spread over eight tracks of learning.  Each talk provides pointed  \"how we did it\" information from hand-picked industry speakers.\n",
      "Keynote speakers include industry thought leader, Tom Davenport, and\n",
      "\n",
      "\n",
      "Topic #6:\n",
      "top terms:  percent (6.15), republican (5.66), democrat (4.44), poll (4.10), voter (3.68)\n",
      "-------\n",
      "****  0 . (0.32)) \n",
      "http://www.nytimes.com/2014/11/04/opinion/what-does-2014-tell-us-about-2016.html\n",
      "The 2014 election will be a four-part test that will tell us more than who will win control of the Senate. First, how much damage has been inflicted over the past six years on the Democratic Party’s brand? Second, has the political calculus shifted enough to give Democratic presidential candidates a shot at Georgia, breaking the Republican Party’s grip on the Deep South? Have two traditionally Dem\n",
      "\n",
      "****  1 . (0.28)) Significant Digits For Wednesday, June 10, 2015\n",
      "http://fivethirtyeight.com/datalab/significant-digits-for-wednesday-june-10-2015/\n",
      "Significant Digits For Wednesday, June 10, 2015\n",
      "7:27 AMJun 10, 2015 By Walt Hickey\n",
      "You’re reading Significant Digits, a daily digest of the telling numbers tucked inside the news. To receive this as an email newsletter, please subscribe .\n",
      "1 voter\n",
      "A single voter showed up to a Rick Santorum campaign stop in Iowa Monday — not a great sign for the former Republican senator turned neologism turned pre\n",
      "\n",
      "****  2 . (0.26)) \n",
      "http://www.nytimes.com/2014/11/08/us/politics/republicans-beat-democrats-at-their-own-ground-game.html\n",
      "The Republicans’ ground game and digital strategy in 2012 were disasters, bad enough to become a political punch line. The party was determined not to repeat those mistakes, and operatives were well on their way to overhauling its systems this election cycle when the Democrats announced their “Bannock Street project,” an ambitious voter-mobilization program. Though the Republicans were already bui\n",
      "\n",
      "****  3 . (0.25)) Significant Digits For Wednesday, June 3, 2015\n",
      "http://fivethirtyeight.com/datalab/significant-digits-for-wednesday-june-3-2015/\n",
      "Significant Digits For Wednesday, June 3, 2015\n",
      "7:06 AMJun 3, 2015 By Walt Hickey\n",
      "You’re reading Significant Digits, a daily digest of the telling numbers tucked inside the news. To receive this as an email newsletter, please subscribe .\n",
      "2\n",
      "Shonda Rhimes, creator of the TV shows “Grey’s Anatomy” and “Scandal,” has a book coming out in the fall called “Year of Yes” that is all about her taking on a y\n",
      "\n",
      "****  4 . (0.24)) \n",
      "http://www.nytimes.com/aponline/2014/11/08/us/politics/ap-us-midterm-elections-gop-ground-game.html\n",
      "ENGLEWOOD, Colo. —  In the suburbs south of Denver, a tight-knit group of Republicans hatched plans this spring to counter the \"Bannock Street Project.\" Named for the successful push at the polls that saved Colorado Sen. Michael Bennet in 2010, the \"Bannock Street Project\" is what Democrats called this year's voter turnout operation for Senate candidates. It's a name that also came to symbolize ho\n",
      "\n",
      "\n",
      "Topic #7:\n",
      "top terms:  compani (6.84), said (5.63), mr (3.50), cloud (3.19), custom (3.08)\n",
      "-------\n",
      "****  0 . (0.23)) \n",
      "http://bits.blogs.nytimes.com/2015/01/25/tech-giants-invest-in-new-dreams-of-grandeur/\n",
      "In the last two weeks, investments from some of the biggest technology companies have raised an important question: Have they gone crazy? The short answer is: Probably not. The reasons show just how big their ambitions have become. First, Qualcomm, which makes semiconductors for smartphones, invested with Richard Branson’s Virgin Group on a constellation of satellites. Google went into orbit too, \n",
      "\n",
      "****  1 . (0.23)) \n",
      "http://dealbook.nytimes.com/2015/01/07/challenged-by-upstarts-lenders-try-new-strategy-cooperation/\n",
      "Employees at MasterCard thought they saw a drop-off in credit card volume last spring at one of their merchants, a legal services provider. Checking further, they found they had a new competitor, Behalf, a start-up small-business lender backed by two venture capital firms that makes credit decisions in just a few seconds. But rather than play defense, a reaction banks and credit card companies wer\n",
      "\n",
      "****  2 . (0.23)) \n",
      "http://www.nytimes.com/2015/01/08/business/challenged-by-upstarts-lenders-try-new-strategy-cooperation.html\n",
      "Employees at MasterCard thought they saw a drop-off in credit card volume last spring at one of their merchants, a legal services provider. Checking further, they found they had a new competitor, Behalf, a start-up small-business lender backed by two venture capital firms that makes credit decisions in just a few seconds. But rather than play defense, a reaction banks and credit card companies wer\n",
      "\n",
      "****  3 . (0.22)) \n",
      "http://bits.blogs.nytimes.com/2014/06/11/the-era-of-cloud-computing/\n",
      "SynapDx searches hundreds of thousands of genetic markers, looking for clues about autism in 880 children across 20 states. A few years ago, this would be the task of a major company or research institution. Thanks to cloud computing, the start-up in Lexington, Mass., does it with 22 people, a few laptops and an Internet connection. “Without the cloud I’d need $1 million, plus staff, just for the \n",
      "\n",
      "****  4 . (0.22)) \n",
      "http://www.nytimes.com/2014/12/15/technology/in-big-data-shepherding-comes-first-.html\n",
      "Big data is increasingly moving into the mainstream, as companies in every industry begin to combine an abundance of digital data with smart software to analyze it. It is a potential gold mine for software makers, with analysts predicting torrid growth for the market overall. But building big data businesses is proving to be anything but a get-rich-quick game, and to require both agility and patie\n",
      "\n",
      "\n",
      "Topic #8:\n",
      "top terms:  new (4.93), york (4.71), agenc (4.08), director (3.92), presid (3.82)\n",
      "-------\n",
      "****  0 . (0.45)) \n",
      "http://www.nytimes.com/2014/04/07/business/media/accounts-and-people-of-note-in-the-advertising-industry.html\n",
      "Added Value Group, part of WPP, promoted three executives. Jonathan Hall, who had been managing director at the Added Value Cheskin division, based in San Francisco, becomes president for consulting, North America, based in New York. Two senior vice presidents at Added Value North America, Jeff Powell and Steve Rowe, are being promoted; Mr. Powell becomes executive vice president and thought leade\n",
      "\n",
      "****  1 . (0.44)) \n",
      "http://www.nytimes.com/2014/02/24/business/media/accounts-and-people-of-note-in-the-advertising-industry.html\n",
      "Hugh Allspaugh joined VSA Partners, Chicago, as an associate partner, responsible for helping expand the agency’s business-to-business marketing strategy discipline. He had been executive director for marketing strategy and analytics at the Chicago office of Ogilvy & Mather Worldwide, part of WPP. Ariad Communications, Toronto, hired four employees. They are: Roger Cardiff, email designer; Daniell\n",
      "\n",
      "****  2 . (0.44)) \n",
      "http://www.nytimes.com/2013/12/02/business/media/accounts-and-people-of-note-in-the-advertising-industry.html\n",
      "Zack Ashley joined Factory 360, New York, in a new post, chief marketing officer. He had been head of marketing and communications at Addiction Worldwide, New York. Lincoln Bjorkman joined Wunderman, New York, part of the Young & Rubicam Group unit of WPP, as global chief creative officer, a post that had not been filled since 2007. He had been chief creative officer for North America at Digitas, \n",
      "\n",
      "****  3 . (0.44)) \n",
      "http://www.nytimes.com/2014/06/09/business/media/accounts-and-people-of-note-in-the-advertising-industry.html\n",
      "Lee Allan joined Gage, Minneapolis, as the agency’s design director. She succeeds Kenny Friedman, who left to join Flor, Chicago, as executive creative director. Ms. Allan had most recently been creative director at Go East Design, St. Paul. Mitch Bernstein joined Havas Media North America in New York in a new post, new business development director. He had been senior partner and director for cli\n",
      "\n",
      "****  4 . (0.43)) \n",
      "http://www.nytimes.com/2014/10/20/business/media/accounts-and-people-of-note-in-the-advertising-industry.html\n",
      "A&E; Networks, New York, gave several executives new titles as part of a reorganization. Mel Berning, who had been president for ad sales of A&E; Networks, becomes president and chief revenue officer. Peter Olsen, executive vice president for ad sales for the History and H2 channels, becomes executive vice president for ad sales of A&E; Networks. Amy Baker, executive vice president for ad sales fo\n",
      "\n",
      "\n",
      "Topic #9:\n",
      "top terms:  game (8.53), team (5.93), cup (3.59), win (3.58), player (3.48)\n",
      "-------\n",
      "****  0 . (0.37)) The Cavs’ Win Was Either A Huge Upset Or A Sign Of\n",
      "Something Bigger\n",
      "http://fivethirtyeight.com/datalab/the-cavs-win-was-either-a-huge-upset-or-a-sign-of-something-bigger/\n",
      "The Cavs’ Win Was Either A Huge Upset Or A Sign Of Something Bigger\n",
      "3:10 PMJun 9, 2015 By Neil Paine\n",
      "LeBron James of the Cleveland Cavaliers shoots over Andre Iguodala and Klay Thompson of the Golden State Warriors during Game 2 of the 2015 NBA Finals.\n",
      "Nathaniel S. Butler / NBAE / Getty Images\n",
      "After the Cleveland Cavaliers dropped Game 1 of the NBA Finals — and lost guard Kyrie Irving to injury in\n",
      "\n",
      "****  1 . (0.33)) The Cavs Have Played The Defense Of Their Lives So Far\n",
      "— Can They Keep It Up?\n",
      "http://fivethirtyeight.com/datalab/the-cavs-have-played-the-defense-of-their-lives-so-far-can-they-keep-it-up/\n",
      "The Cavs Have Played The Defense Of Their Lives So Far — Can They Keep It Up?\n",
      "12:22 PMJun 11, 2015 By Neil Paine\n",
      "Matthew Dellavedova of the Cleveland Cavaliers defends against Stephen Curry of the Golden State Warriors during Game 3 of the 2015 NBA Finals.\n",
      "Jason Miller / Getty Images\n",
      "Through the first three games of the NBA Finals, the Cleveland Cavaliers have slowed down the Golden State Warriors\n",
      "\n",
      "****  2 . (0.31)) Where This Year’s Cavs Rank Among LeBron’s NBA Finals\n",
      "Supporting Casts\n",
      "http://fivethirtyeight.com/datalab/where-this-years-cavs-rank-among-lebrons-nba-finals-supporting-casts/\n",
      "Where This Year’s Cavs Rank Among LeBron’s NBA Finals Supporting Casts\n",
      "7:24 AMJun 1, 2015 By Neil Paine\n",
      "LeBron James of the Cleveland Cavaliers during Game 4 of the Eastern Conference semifinals on May 10 against the Chicago Bulls in Chicago.\n",
      "Jesse D. Garrabrant / NBAE / Getty Images\n",
      "The signature event of LeBron James’s first stint with the Cleveland Cavaliers was probably his 48-point outburst a\n",
      "\n",
      "****  3 . (0.29)) Why The Warriors Are So Tough To Beat\n",
      "http://fivethirtyeight.com/datalab/why-the-warriors-are-so-tough-to-beat/\n",
      "Why The Warriors Are So Tough To Beat\n",
      "11:26 AMJun 12, 2015 By Nate Silver\n",
      "Stephen Curry of the Golden State Warriors shoots over Tristan Thompson of the Cleveland Cavaliers during Game 4 of the 2015 NBA Finals.\n",
      "Nathaniel S. Butler / NBAE / Getty Images\n",
      "Through the first three games of the NBA Finals, the storylines were intricate and rich:\n",
      "Could LeBron James carry one of the worst supporting casts\n",
      "\n",
      "****  4 . (0.29)) What Kyrie Irving’s Injury Could Mean For The Cavs’\n",
      "Chances\n",
      "http://fivethirtyeight.com/datalab/what-kyrie-irvings-injury-could-mean-for-the-cavs-chances/\n",
      "What Kyrie Irving’s Injury Could Mean For The Cavs’ Chances\n",
      "7:03 PMJun 5, 2015 By Nate Silver\n",
      "Kyrie Irving leaves the game injured against the Golden State Warriors during Game One of the 2015 NBA Finals.\n",
      "Ezra Shaw / Getty\n",
      "Maybe God really does hate Cleveland . The Cleveland Cavaliers led for much of Game 1 of the finals against the Golden State Warriors and had a better than 70 percent shot at wi\n",
      "\n",
      "\n",
      "Topic #10:\n",
      "top terms:  said (8.75), research (6.60), dr (5.71), scientist (3.95), univers (3.69)\n",
      "-------\n",
      "****  0 . (0.26)) \n",
      "http://www.nytimes.com/2015/05/22/science/scientists-sample-the-ocean-and-find-tiny-additions-to-the-tree-of-life.html\n",
      "Climate change scientists have known for years that rising temperatures affect sea creatures, from the biggest fish to the microscopic plankton at the base of the ocean food chain. Now, a four-year expedition that sampled microbes from across the world’s oceans is bringing the mechanisms of that change into focus. These tiny creatures, which may be among the oldest on Earth, together absorb carbon\n",
      "\n",
      "****  1 . (0.25)) \n",
      "http://www.nytimes.com/2015/06/01/business/beyond-publish-or-perish-scientific-papers-look-to-make-splash.html\n",
      "WASHINGTON — Each July, many of the top economists in the world gather in Cambridge, Mass., at a conference hosted by the National Bureau of Economic Research. While the work they present comes in all shapes and sizes, from the highly technical to the trendy and provocative, the coveted first day of a key weeklong session is given over to research that will make a media splash. “I choose the paper\n",
      "\n",
      "****  2 . (0.23)) \n",
      "http://www.nytimes.com/2015/06/05/health/single-blood-test-for-all-virus-exposures.html\n",
      "Using less than a drop of blood, a new test can reveal nearly every virus a person has ever been exposed to, scientists reported on Thursday. The test, which is still experimental, can be performed for as little as $25 and could become an important research tool for tracking patterns of disease in various populations, helping scientists compare the old and the young, or people in different parts o\n",
      "\n",
      "****  3 . (0.22)) \n",
      "http://www.nytimes.com/2015/05/26/science/maligned-study-on-gay-marriage-is-shaking-trust.html\n",
      "He was a graduate student who seemingly had it all: drive, a big idea and the financial backing to pay for a sprawling study to test it. In 2012, as same-sex marriage advocates were working to build support in California, Michael LaCour, a political science researcher at the University of California, Los Angeles, asked a critical question: Can canvassers with a personal stake in an issue — in this\n",
      "\n",
      "****  4 . (0.22)) \n",
      "http://www.nytimes.com/2014/05/09/science/a-synthetic-biology-conference-lures-an-intriguing-audience.html\n",
      "CAMBRIDGE, Mass. — When does a scientific conference warrant the attention of the Federal Bureau of Investigation and the Department of Homeland Security? When the topic is synthetic biology. Both of those federal agencies turned out on May 1 to monitor the proceedings here at the Massachusetts Institute of Technology — and a representative from the F.B.I. even spoke. Their attendance, as well as \n",
      "\n",
      "\n",
      "Topic #11:\n",
      "top terms:  drug (12.42), patient (7.88), fda (4.78), medic (3.20), cancer (3.10)\n",
      "-------\n",
      "****  0 . (0.45)) \n",
      "http://www.nytimes.com/aponline/2015/06/09/us/ap-us-cholesterol-drug-fda.html\n",
      "GAITHERSBURG, Md. —  Federal health advisers on Tuesday recommended approval for a highly anticipated cholesterol drug from Sanofi and Regeneron Pharmaceuticals, but with the caveat that more data is needed about its long-term ability to reduce heart attacks. The expert panel recommended by a 13-3 vote that the Food and Drug Administration approve the injectable drug, called Praluent. But in an un\n",
      "\n",
      "****  1 . (0.44)) \n",
      "http://www.nytimes.com/aponline/2015/06/05/us/politics/ap-us-cholesterol-drug-sanofi.html\n",
      "WASHINGTON —  Federal health regulators said Friday that a highly-anticipated, experimental drug from Sanofi lowers bad cholesterol more than older drugs. But officials have questions about whether to approve the drug based on that measure alone or wait for additional study results. The Food and Drug Administration posted its review of Sanofi's Praluent ahead of a meeting next week to consider the\n",
      "\n",
      "****  2 . (0.42)) \n",
      "http://www.nytimes.com/2015/06/11/opinion/dont-weaken-the-fdas-drug-approval-process.html\n",
      "DURING the early days of the AIDS epidemic in the 1980s, there were no effective treatments against H.I.V., the virus that causes the disease. Because of this, many thousands of people died lingering deaths. The desperation of those times led to the rise of an activist movement that took to the streets and pressed government officials to expedite research on drugs to treat AIDS. The danger of fast\n",
      "\n",
      "****  3 . (0.41)) \n",
      "http://www.nytimes.com/aponline/2015/06/02/us/politics/ap-us-female-sex-pill-fda.html\n",
      "WASHINGTON —  The makers of a pill intended to boost sexual desire in women will try again this week to persuade regulators that the drug warrants approval after two rejections. But a new review released by the Food and Drug Administration shows government scientists still have concerns about whether the drug's benefits outweigh its risks. The FDA review highlights several safety issues with fliba\n",
      "\n",
      "****  4 . (0.39)) \n",
      "http://www.nytimes.com/aponline/2015/05/07/us/politics/ap-us-female-sex-pill.html\n",
      "WASHINGTON —  The Food and Drug Administration will ask a group of outside medical experts next month to evaluate a much-debated experimental drug designed to boost sexual desire in women. The meeting is the latest twist in the ongoing saga of flibanserin, a proposed female libido pill which the FDA has already twice declined to approve. But the drug's backer, Sprout Pharmaceuticals, has enlisted \n",
      "\n",
      "\n",
      "Topic #12:\n",
      "top terms:  hadoop (12.79), spark (10.60), cluster (3.39), apach (3.30), cloudera (3.16)\n",
      "-------\n",
      "****  0 . (0.33)) Introduction to PySpark \n",
      "http://nbviewer.ipython.org/github/tdhopper/rta-pyspark-presentation/blob/master/slides.ipynb\n",
      "Python (unlike Scala) is dynamically typed. (RDDs can hold objects of multiple types!)\n",
      "Pyspark sometimes lags behind Spark in feature releases.\n",
      "(There's also a Java API in case you really hate life.)\n",
      "Spark vs Pyspark? ¶\n",
      "It must be slower, right?\n",
      "Spark’s core developers have worked extensively to bridge the performance gap between JVM languages and Python.\n",
      "In particular, PySpark can now run on PyPy\n",
      "\n",
      "****  1 . (0.29)) Conversation with Patrick Wendell, release manager of Apache Spark \n",
      "http://radar.oreilly.com/2015/06/apache-spark-powering-applications-on-premise-and-in-the-cloud.html\n",
      "Apache Spark: Powering applications on-premise and in the cloud\n",
      "The O'Reilly Data Show Podcast: Patrick Wendell on the state of the Spark ecosystem.\n",
      "Comment\n",
      "As organizations shift their focus toward building analytic applications, many are relying on components from the Apache Spark ecosystem. I began pointing this out in advance of the first Spark Summit in 2013 and since then , Spark adoption ha\n",
      "\n",
      "****  2 . (0.29)) Hadoop: Elephants in the Cloud\n",
      "http://www.kdnuggets.com/2014/01/hadoop-elephants-in-the-cloud.html\n",
      "Hadoop in the Cloud became a trending topic in 2013, with many new product and project announcements. This guest post explores 6 reasons why customers are seeing increased value in this model.\n",
      "Guest blog by Hemanth Yamijala, Jan 7, 2014\n",
      "In 2013, it has become evident that Hadoop in the Cloud is a trending topic. There have been a lot of new product and project announcements related to running Hado\n",
      "\n",
      "****  3 . (0.27)) Hadoop Training in Chennai \n",
      "http://www.besanttechnologies.com/training-courses/data-warehousing-training/hadoop-training-institute-in-chennai\n",
      "Home → Training Courses → Data Warehousing Training → Hadoop Training\n",
      "Hadoop Training in Chennai\n",
      "Learn how to use Hadoop from beginner level to advanced techniques which is taught by experienced working professionals. With our Hadoop Training in Chennai you’ll learn concepts in expert level with practical manner.\n",
      "What is Hadoop?\n",
      "Hadoop is a free, Java-based programming framework that supports the \n",
      "\n",
      "****  4 . (0.25)) Interview:\n",
      "Beth Smith, General Manager of the IBM Analytics Platform business, on\n",
      "Analytics, Hadoop, Spark\n",
      "http://www.kdnuggets.com/2015/06/interview-beth-smith-ibm-analytics-hadoop-spark.html\n",
      "We discuss coming Analytics surprises, what has changed, Open Source, Hadoop, Apache Spark, Open Data Platform, new analytics roles, IBM resources for analytics educations, and more.\n",
      "By Gregory Piatetsky, @kdnuggets .\n",
      "Beth Smith is General Manager of the IBM Analytics Platform business. This platform spans Predictive Analytics, BI, Hadoop, Spark, Stream Computing, Databases, Warehouse, Content Man\n",
      "\n",
      "\n",
      "Topic #13:\n",
      "top terms:  python (11.07), notebook (5.13), packag (4.63), languag (4.20), ipython (3.56)\n",
      "-------\n",
      "****  0 . (0.39)) Comparing Python and R \n",
      "http://blog.dominodatalab.com/comparing-python-and-r-for-data-science/\n",
      "R , Python\n",
      "A guest post by Martijn Theuwissen from DataCamp\n",
      "Both Python and R are popular open source languages for performing data science tasks. As a consequence, we at DataCamp often get questions from our students on whether they should use one or the other for their statistical chores.\n",
      "This post describes some of the basic differences between the two languages and the places they occupy in th\n",
      "\n",
      "****  1 . (0.39)) R vs\n",
      "Python for Data Science: The Winner is …\n",
      "http://www.kdnuggets.com/2015/05/r-vs-python-data-science.html\n",
      "In the battle of \"best\" data science tools, python and R both have their pros and cons. Selecting one over the other will depend on the use-cases, the cost of learning, and other common tools required.\n",
      "By Martijn Theuwissen, DataCamp.\n",
      "At DataCamp , our students often ask us whether they should use R and/or Python for their day-to-day data analysis tasks. Although we mainly offer interactive R tuto\n",
      "\n",
      "****  2 . (0.36)) Python 3 in Science: the great migration has begun! \n",
      "http://astrofrog.github.io/blog/2015/05/09/2015-survey-results/\n",
      "Python 3 in Science: the great migration has begun!\n",
      "Sat 09 May 2015\n",
      "Back in 2012, I carried out a survey to find out which Python, NumPy, and SciPy versions scientists are currently using for their daily work, in order to better understand which versions should be supported. The main finding was that a large fraction of people have reasonably up-to-date Python installations, although virtually no-\n",
      "\n",
      "****  3 . (0.35)) Anaconda: Free enterprise-ready Python for Big data, Predictive Analytics\n",
      "http://www.kdnuggets.com/2014/02/anaconda-free-enterprise-ready-python-big-data-predictive-analytics.html\n",
      "125+ cross-platform tested and optimized Python packages for advanced analytics totally free, even for commercial use.\n",
      "Completely free enterprise-ready Python distribution for large-scale data processing, predictive analytics, and scientific computing\n",
      "125+ of the most popular Python packages for science, math, engineering, data analysis\n",
      "Completely free - including for commercial use and even redis\n",
      "\n",
      "****  4 . (0.25)) Python-Powered Machine Learning in the Cloud [Video] \n",
      "https://www.youtube.com/watch?v=dHP7qo2xyX0\n",
      "The interactive transcript could not be loaded.\n",
      "Loading...\n",
      "Rating is available when the video has been rented.\n",
      "This feature is not available right now. Please try again later.\n",
      "Published on Jun 9, 2015\n",
      "Stephen Hoover\n",
      "http://www.pyvideo.org/video/3556/pyt...\n",
      "Python is a powerful, easy-to-use language which now has a wide range of numerical and machine-learning open source libraries. At Civis Analyti\n",
      "\n",
      "\n",
      "Topic #14:\n",
      "top terms:  function (3.58), np (3.48), word (3.40), plt (3.14), use (3.10)\n",
      "-------\n",
      "****  0 . (0.26)) An illustrated introduction to the t-SNE algorithm \n",
      "https://beta.oreilly.com/learning/an-illustrated-introduction-to-the-t-sne-algorithm\n",
      "March 3, 2015\n",
      "An illustrated introduction to the t-SNE algorithm\n",
      "In the Big Data era, data is not only becoming bigger and bigger; it is also becoming more and more complex. This translates into a spectacular increase of the dimensionality of the data. For example, the dimensionality of a set of images is the number of pixels in any image, which ranges from thousands to millions.\n",
      "Computers have no\n",
      "\n",
      "****  1 . (0.25)) Advice for applying Machine Learning: IPython tutorial \n",
      "https://jmetzen.github.io/2015-01-29/ml_advice.html\n",
      "Advice for applying Machine Learning\n",
      "2015-01-29\n",
      "Advice for applying Machine Learning ¶\n",
      "This post is based on a tutorial given in a machine learning course at University of Bremen. It summarizes some recommendations on how to get started with machine learning on a new problem. This includes\n",
      "ways of visualizing your data\n",
      "choosing a machine learning method suitable for the problem at hand\n",
      "identifying\n",
      "\n",
      "****  2 . (0.23)) The Clever Machine, a great blog about ML \n",
      "https://theclevermachine.wordpress.com/\n",
      "Posted by dustinstansbury\n",
      "Introduction\n",
      "Though many phenomena in the world can be adequately modeled using linear regression or classification, most interesting phenomena are generally nonlinear in nature. In order to deal with nonlinear phenomena, there have been a diversity of nonlinear models developed. For example parametric models assume that data follow some parameteric class of nonlinear fun\n",
      "\n",
      "****  3 . (0.23)) Google has patented \"Word2Vec\" Algorithim \n",
      "http://www.freepatentsonline.com/9037464.html\n",
      "Parent Case Data:\n",
      "CROSS-REFERENCE TO RELATED APPLICATION\n",
      "This application claims the benefit under 35 U.S.C. §119(e) of U.S. Patent Application No. 61/752,911, filed Jan. 15, 2013, entitled “Computing Vector Representations”, which is incorporated by reference herein its entirety.\n",
      "Claims:\n",
      "What is claimed is:\n",
      "1.  A system comprising: a classifier implemented in one or more computers, comprising: an\n",
      "\n",
      "****  4 . (0.21)) Highlights from International Conference on Learning Representations 2015 \n",
      "http://developers.lyst.com/2015/05/08/iclr-2015/\n",
      "by Maciej Kula , Eddie Bell on Fri, 08 May 2015\n",
      "ICLR is a relatively new conference that is primarily concerned with  deep learning and learned representations. The conference is into its third year and had over 300 attendees, two of which were from Lyst. In this post we'll discuss a few of the interesting  papers and themes presented this year.\n",
      "Simplifying network topology\n",
      "One of the difficulties\n",
      "\n",
      "\n",
      "Topic #15:\n",
      "top terms:  peopl (4.81), like (4.42), think (3.41), thing (3.18), human (3.09)\n",
      "-------\n",
      "****  0 . (0.21)) What is Code? \n",
      "http://www.bloomberg.com/graphics/2015-paul-ford-what-is-code/\n",
      "y\n",
      "3.1 The Beauty of the Standard Library\n",
      "The true measure of a language isn’t how it uses semicolons; it’s the standard library of each language. A language is software for making software. The standard library is a set of premade software that you can reuse and reapply.\n",
      "Take Python, which is “batteries included,” meaning that it comes with tons of preexisting code, organized into “modules,” that \n",
      "\n",
      "****  1 . (0.19)) 5 Things I’ve Learned About Data Science\n",
      "http://arcolano.com/2013/01/5-things-ive-learned-about-data-science\n",
      "5 Things I’ve Learned About Data Science\n",
      "Posted on\n",
      "by Nicholas Arcolano\n",
      "A few months ago I started a new job for the first time in 10 years, leaving my comfortable home at a government FFRDC for an exciting opportunity with the new data science and analytics team at FitnessKeeper.  Even though I’ve been a huge fan of the RunKeeper app for years, it was a terrifying transition.  Sure, joining a wel\n",
      "\n",
      "****  2 . (0.19)) Stuart Russell's Concerns with AI \n",
      "http://www.wired.com/2015/05/artificial-intelligence-pioneer-concerns/\n",
      "Author: Natalie Wolchover. Natalie Wolchover\n",
      "Date of Publication: 05.23.15.\n",
      "Time of Publication: 7:00 am.\n",
      "7:00 am\n",
      "This Artificial Intelligence Pioneer Has a Few Concerns\n",
      "Stuart Russell, a computer scientist at the University of California, Berkeley, during a March stopover in San Antonio, Texas. Natalie Wolchover/Quanta Magazine\n",
      "In January, the British-American computer scientist Stuart Russell dr\n",
      "\n",
      "****  3 . (0.18)) Future Of Neural Networks & MLaaS: Dave Sullivan Interview (Ersatz CEO)\n",
      "http://www.datascienceweekly.org/blog/8-the-future-of-neural-networks-and-mlaas-dave-sullivan-interview-ersatz-founder\n",
      "The Future of Neural Networks & MLaaS: Dave Sullivan Interview (Ersatz Founder)\n",
      "We recently caught up with Dave Sullivan, Founder and CEO of Blackcloud BSG - the company behind Ersatz - and host of the San Francisco Neural Network Aficionados group . We were keen to learn more about his background, recent developments in Neural Networks/Deep Learning and how Machine Learning as a Service (MLaaS) i\n",
      "\n",
      "****  4 . (0.18)) Viewpoint: Why your company should NOT use “Big Data”\n",
      "http://www.kdnuggets.com/2014/01/viewpoint-why-your-company-should-not-use-big-data.html\n",
      "Tags: 80/20 Principle , Hardcore Analytics , Pair Search , Quality Score , Sort Order\n",
      "Hardcore analytics (and Big Data) can add value, but only marginally and only for companies that have already mastered using the data they already have. The ‘obvious’ information from your own data can get you 90%+ of the total impact, so start there. The hard part is executing the basic insights across the organ\n",
      "\n",
      "\n",
      "Topic #16:\n",
      "top terms:  statist (16.54), analysi (4.84), experi (3.24), data (2.87), appli (2.85)\n",
      "-------\n",
      "****  0 . (0.37)) Applied\n",
      "Statistics Is A Way Of Thinking, Not Just A Toolbox\n",
      "http://www.kdnuggets.com/2015/05/applied-statistics-thinking-not-toolbox.html\n",
      "Tags: Applied Statistics , Randy Bartlett , Statistics , Toolbox\n",
      "The choice of tools in applied statistics is driven by the objective, the structure of the data, and the nature of the uncertainty in the numbers, whereas in academic statistics its driven by publishing or teaching. Here we provide some of common statistical tools and the overlapping genealogy.\n",
      "comments\n",
      "By Randy Bartlett, Blue Sigma \n",
      "\n",
      "****  1 . (0.31)) Viewpoint: Statistical Data Science, The Data Analysis Side\n",
      "http://www.kdnuggets.com/2014/02/viewpoint-statistical-data-science-data-analysis-side.html\n",
      "“I believe statistics has many cultures.”\n",
      " — Emanuel Parzen, Professor, Texas A&M University\n",
      "By Randy Bartlett, Feb 2014.\n",
      "With so much LARGE talk about the role of Quants/statisticians and the utility of statistics, we need to restate what we view with clarity.\n",
      "The data world is split into two skill sets: one for managing data and  another for analyzing it. \n",
      "Inside the corporation, we will describ\n",
      "\n",
      "****  2 . (0.28)) Analytically Speaking Webcast with David J. Hand, Mar 5\n",
      "http://www.kdnuggets.com/2014/02/jmp-analytically-speaking-webcast-david-hand.html\n",
      "Wednesday, March 5, 2014\n",
      "1-2 PM ET (10-11 AM PT)\n",
      "Expertise: statistics, classification, data mining, anomaly detection, the foundations of statistics, multivariate statistics, classification methods, pattern recognition, computational statistics\n",
      "David J. Hand , a two-time former president of the Royal Statistical Society, explains the commonplace nature of extraordinary events in his book The Impr\n",
      "\n",
      "****  3 . (0.27)) Statistics: P values are just the tip of the iceberg \n",
      "http://www.nature.com/news/statistics-p-values-are-just-the-tip-of-the-iceberg-1.17412\n",
      "Careers\n",
      "There is no statistic more maligned than the P value. Hundreds of papers and blogposts have been written about what some statisticians deride as 'null hypothesis significance testing' (NHST; see, for example, go.nature.com/pfvgqe). NHST deems whether the results of a data analysis are important on the basis of whether a summary statistic (such as a P value) has crossed a threshold. Given t\n",
      "\n",
      "****  4 . (0.26)) Statistics with computational methods, not agonizing pain \n",
      "http://rrherr.com/2015/05/09/statistics-computational-methods-not-agonizing-pain/\n",
      "This is a mash-up of two talks that go together wonderfully:\n",
      "“Statistics Without the Agonizing Pain,”  John Rauser , Strata + Hadoop World NYC 2014\n",
      "“Inferential Statistics With Computational Methods,”  Allen Downey , PyCon 2015\n",
      "Rauser’s keynote was my favorite at the Strata conference:\n",
      "Some excerpts:\n",
      "When I decided to learn statistics, I read several books, which I shall politely not identify. I u\n",
      "\n",
      "\n",
      "Topic #17:\n",
      "top terms:  learn (17.15), machin (10.82), deep (5.09), neural (3.40), scikit (3.12)\n",
      "-------\n",
      "****  0 . (0.31)) New video series: Intro to machine learning with scikit-learn \n",
      "http://blog.kaggle.com/2015/04/08/new-video-series-introduction-to-machine-learning-with-scikit-learn/\n",
      "Posted on April 8 2015 by Kevin Markham\n",
      "Have you tried out a few Kaggle competitions, but you aren't quite sure what you're supposed to be doing? Or perhaps you've heard all the talk in the Kaggle forums about Python's scikit-learn library, but you haven't figured out how to take advantage of this powerful tool for machine learning? If so, this post is for you!\n",
      "As a data science instructor and the\n",
      "\n",
      "****  1 . (0.29)) 16 Free eBooks On Machine Learning!\n",
      "http://efytimes.com/e1/fullnews.asp?edid=121516\n",
      "16 Free eBooks On Machine Learning!\n",
      "16 Free eBooks On Machine Learning!  \n",
      " \n",
      "Those involved in the field of Robotics and Artificial Intelligence are well aware of 'Machine Learning'. Here we bring to you 16 ebooks on the discipline, which are free to read and download! \n",
      " \n",
      "Rate this news:\n",
      " (13 Votes)\n",
      "Saturday, November 16, 2013:  Are you interested in the intense, lucrative and adventurous field  of\n",
      "\n",
      "****  2 . (0.28)) 12 Best Free Ebooks for Machine Learning \n",
      "http://designimag.com/best-free-machine-learning-ebooks/\n",
      "12 Best Free Ebooks for Machine Learning\n",
      "May 14, 2015\n",
      "3 Comments\n",
      "Machine learning is a scientific discipline that works on construction and study of algorithms which operate by building a model from example inputs using the make predictions or decisions. With the number of people joining the nerdy geeks, machine learning has seen quite a lot of development over the course of years.\n",
      "Are you the one\n",
      "\n",
      "****  3 . (0.26)) An amateurs try at learning machine learning in one week \n",
      "https://medium.com/@oslokommuneper/machine-learning-in-a-week-a0da25d59850\n",
      "Next story\n",
      "Next story\n",
      "The author chose to make this story unlisted, which means only people with a link can see it. Are you sure you want to share it?\n",
      "Yes, show me sharing options\n",
      "Machine Learning in a week\n",
      "Share on Twitter\n",
      "Share on Facebook\n",
      "Machine Learning in a week\n",
      "Getting into machine learning (ml) can seem like an unachievable task from the outside. And it definitely can be, if you attack it \n",
      "\n",
      "****  4 . (0.24)) Computer Science: The Learning Machines\n",
      "http://www.nature.com/news/computer-science-the-learning-machines-1.14481?WT.mc_id=TWT_NatureNews\n",
      "Rights & Permissions\n",
      "BRUCE ROLFF/SHUTTERSTOCK\n",
      "Three years ago, researchers at the secretive Google X lab in Mountain View, California, extracted some 10 million still images from YouTube videos and fed them into Google Brain — a network of 1,000 computers programmed to soak up the world much as a human toddler does. After three days looking for recurring patterns, Google Brain decided, all on its \n",
      "\n",
      "\n",
      "Topic #18:\n",
      "top terms:  ibm (17.18), watson (5.76), appl (3.70), compani (3.44), busi (3.24)\n",
      "-------\n",
      "****  0 . (0.40)) \n",
      "http://www.nytimes.com/2014/10/21/business/amid-a-shift-in-strategy-ibm-reports-weak-earnings.html\n",
      "After IBM reported surprisingly weak quarterly profits and sales Monday morning, Virginia M. Rometty did something most unusual for an IBM chief executive. She joined the conference call with analysts, and forcefully made the case for investing heavily in new fields that promise growth in the future, despite a near-term financial setback. “We are reinventing and we are managing this company for th\n",
      "\n",
      "****  1 . (0.35)) \n",
      "http://www.nytimes.com/2015/04/26/your-money/now-its-apples-world-once-it-was-ibms.html\n",
      "Apple can’t grow like this forever. No company can. In a few short years, Apple has become the biggest company on the planet by market value — so big that it dwarfs every other one on the stock market. It dominates the Standard & Poor’s 500-stock index as no other company has in 30 years. Apple’s market capitalization — the value of all of the shares of its stock — is more than $758 billion, great\n",
      "\n",
      "****  2 . (0.35)) \n",
      "http://bits.blogs.nytimes.com/2015/02/26/ibms-leaders-2015-is-a-transition-year-by-design/\n",
      "IBM’s top executives are holding their annual meeting with Wall Street analysts on Thursday, and it’s a skeptical crowd.  The technology giant has sputtered recently with disappointing sales and profits. Last fall, IBM abandoned its long-held target of generating earnings of $20 a share this year, while its fourth-quarter profits and sales declined.  At the analysts’ meeting, IBM is presenting the\n",
      "\n",
      "****  3 . (0.34)) \n",
      "http://www.nytimes.com/2014/04/17/technology/ibm-quarterly-earnings.html\n",
      "IBM is investing heavily in the future. It has placed multibillion-dollar bets on businesses to deliver computing remotely over the Internet cloud, on sophisticated data-analysis software and on its Watson artificial-intelligence technology. But the giant technology company faces a classic bind: Can the new offerings grow fast enough to offset the erosion of its traditional hardware and software b\n",
      "\n",
      "****  4 . (0.34)) \n",
      "http://bits.blogs.nytimes.com/2015/03/17/ibm-introduces-twitter-fueled-data-services-for-business/\n",
      "When IBM announced its partnership with Twitter last October, the move seemed both promising and logical. IBM is betting a fair share of its future on exploiting large troves of data for its business customers, and Twitter is a big-data fire-hose with 6,000 tweets a second, more than half a billion each day. And Twitter’s data-licensing business, though still a small part of the company, is growin\n",
      "\n",
      "\n",
      "Topic #19:\n",
      "top terms:  facebook (18.15), user (5.60), research (4.10), studi (3.65), social (3.41)\n",
      "-------\n",
      "****  0 . (0.39)) \n",
      "http://www.nytimes.com/2014/07/03/technology/personaltech/the-bright-side-of-facebooks-social-experiments-on-users.html\n",
      "Facebook’s disclosure last week that it had tinkered with about 700,000 users’ news feeds as part of a psychology experiment conducted in 2012 inadvertently laid bare what too few tech firms acknowledge: that they possess vast powers to closely monitor, test and even shape our behavior, often while we’re in the dark about their capabilities. The publication of the study, which found that showing p\n",
      "\n",
      "****  1 . (0.39)) \n",
      "http://www.nytimes.com/aponline/2014/07/02/world/europe/ap-eu-europe-facebook.html\n",
      "LONDON —  British regulators are investigating revelations that Facebook treated hordes of its users like laboratory rats in an experiment probing into their emotions. The Information Commissioner's Office said Wednesday that it wants to learn more about the circumstances underlying a 2-year-old study carried out by two U.S. universities and the world's largest social network. The inquiry is being\n",
      "\n",
      "****  2 . (0.36)) \n",
      "http://www.nytimes.com/2015/05/08/technology/facebook-study-disputes-theory-of-political-polarization-among-users.html\n",
      "For years, political scientists and social theorists have fretted about the Internet’s potential to flatten and polarize democratic discourse. Because so much information now comes through digital engines shaped by our preferences — Facebook, Google and others suggest content based on what consumers previously enjoyed — scholars have theorized that people are building an online echo chamber of the\n",
      "\n",
      "****  3 . (0.35)) \n",
      "http://bits.blogs.nytimes.com/2013/03/05/facebook-study-each-post-seen-by-a-third-of-friends-on-average/\n",
      "It’s hard to know who saw that picture you posted on Facebook of your Friday night escapade or that screed you wrote about how so-and-so looked during the Oscars.  According to a study done by data scientists at Facebook, more of your Facebook “friends” saw what you posted than the average Facebook user realizes.  On average, each post was seen by one in three Facebook “friends,” according to an a\n",
      "\n",
      "****  4 . (0.33)) \n",
      "http://bits.blogs.nytimes.com/2014/06/30/facebook-says-its-sorry-weve-heard-that-before/\n",
      "Sometimes, being wrong on the Internet means having to say you’re sorry. And by now, Facebook is very, very good at saying sorry. Facebook offered up an apology to its users on Sunday, after it came to light that the company had manipulated the news feeds of more than half a million people so it could change the number of positive and negative posts that appear from their friends. Facebook’s in-ho\n",
      "\n",
      "\n"
     ]
    }
   ],
   "source": [
    "W_t = W.T\n",
    "n_top_articles = 5\n",
    "n_top_terms = 5\n",
    "for topic_idx, article_w in enumerate(W_t):\n",
    "    print(\"Topic #%d:\" % topic_idx)\n",
    "    \n",
    "    #    for i, topic in enumerate(topic_terms):\n",
    "    terms = topic_terms[topic_idx]\n",
    "    l = sorted(terms.items(), key=lambda x: x[1])[::-1]\n",
    "    txt_list = []\n",
    "    for item in l[:n_top_terms]:\n",
    "        txt_list.append('%s (%.2f)' % (item[0], item[1]))\n",
    "    print 'top terms: ',', '.join(txt_list)\n",
    "    print '-------'\n",
    "    #print article_w.shape\n",
    "    idx_article_topn = article_w.argsort()[:-n_top_articles - 1:-1]\n",
    "    for i, idx in enumerate(idx_article_topn):\n",
    "        url = df2.iloc[idx]['url']\n",
    "        print '**** ', i,'. (%.2f))'% article_w[idx], article_dict_all.get(url,'')\n",
    "        print url\n",
    "        print df2.iloc[idx]['body_text'][:400]\n",
    "        print \n",
    "    print "
   ]
  },
  {
   "cell_type": "markdown",
   "metadata": {},
   "source": [
    "#### get the most relevant topic for each article "
   ]
  },
  {
   "cell_type": "code",
   "execution_count": 239,
   "metadata": {
    "collapsed": false
   },
   "outputs": [
    {
     "data": {
      "image/png": "[encoded data removed]",
      "text/plain": [
       "<matplotlib.figure.Figure at 0x10a9f5d10>"
      ]
     },
     "metadata": {},
     "output_type": "display_data"
    }
   ],
   "source": [
    "best_topics_for_articles = []\n",
    "for i_article, topic_w in enumerate(W):\n",
    "    i_best_topic = np.argmax(topic_w)\n",
    "    best_topics_for_articles.append([i_best_topic, topic_w[i_best_topic]])\n",
    "best_topics_for_articles = np.array(best_topics_for_articles)\n",
    "fig = plt.figure(figsize=(8,4))\n",
    "plt.hist(best_topics_for_articles[:,1], bins =50)\n",
    "plt.show()"
   ]
  },
  {
   "cell_type": "code",
   "execution_count": 244,
   "metadata": {
    "collapsed": false
   },
   "outputs": [
    {
     "data": {
      "text/plain": [
       "1     35\n",
       "11     6\n",
       "8      6\n",
       "18     5\n",
       "13     4\n",
       "19     4\n",
       "12     1\n",
       "9      1\n",
       "2      1\n",
       "16     1\n",
       "dtype: int64"
      ]
     },
     "execution_count": 244,
     "metadata": {},
     "output_type": "execute_result"
    }
   ],
   "source": [
    "cond_topic = best_topics_for_articles[:,1] > 0.33\n",
    "pd.value_counts(best_topics_for_articles[cond_topic,0])"
   ]
  },
  {
   "cell_type": "code",
   "execution_count": 105,
   "metadata": {
    "collapsed": false
   },
   "outputs": [
    {
     "data": {
      "image/png": "[encoded data removed]",
      "text/plain": [
       "<matplotlib.figure.Figure at 0x10a7d38d0>"
      ]
     },
     "metadata": {},
     "output_type": "display_data"
    }
   ],
   "source": [
    "n = W_t.shape[0]\n",
    "ncols = 4\n",
    "nrows = n // ncols + ( (n % ncols)>0 )\n",
    "fig, ax = plt.subplots(nrows, ncols, figsize = (20,14))\n",
    "axs = ax.flatten()\n",
    "for i, article_w in enumerate(W_t):\n",
    "    axs[i].hist(article_w, bins =20)\n",
    "    axs[i].set_title(str(i))\n",
    "plt.show()\n",
    "    "
   ]
  },
  {
   "cell_type": "code",
   "execution_count": 120,
   "metadata": {
    "collapsed": false
   },
   "outputs": [
    {
     "name": "stdout",
     "output_type": "stream",
     "text": [
      "[(100, 0.45178600550299125), (99, 0.20456999563058162), (98, 0.15053536969806591), (97, 0.11960559827637235), (96, 0.099365382677294223), (95, 0.084573431443616967), (90, 0.043308020902871051), (85, 0.026134143808129333), (80, 0.01680845073482452), (75, 0.011096468706582386), (50, -0.0)]\n"
     ]
    },
    {
     "data": {
      "image/png": "[encoded data removed]",
      "text/plain": [
       "<matplotlib.figure.Figure at 0x10ed794d0>"
      ]
     },
     "metadata": {},
     "output_type": "display_data"
    }
   ],
   "source": [
    "p =  [100,99,98,97,96,95,90,85,80,75,50]\n",
    "print zip(p, np.percentile(W_t.flatten(), p))\n",
    "fig = plt.figure(figsize=(8,5))\n",
    "plt.hist(W_t.flatten(), bins=50)\n",
    "plt.show()"
   ]
  },
  {
   "cell_type": "code",
   "execution_count": 72,
   "metadata": {
    "collapsed": false
   },
   "outputs": [],
   "source": [
    "def get_top_topics_terms(vectorizer, H, k_top_words=50):\n",
    "    '''\n",
    "    get the k_top_words for each topic\n",
    "        - INPUT:  \n",
    "        - OUTPUT: dict - topics_dicts (most important terms for each topic)\n",
    "    '''\n",
    "    topic_terms = []\n",
    "    n_topics = H.shape[0]\n",
    "\n",
    "    for i in xrange(n_topics):\n",
    "        k, v = zip(*sorted(zip(vectorizer.get_feature_names(), H[i]),\n",
    "                           key=lambda x: x[1])[:-k_top_words:-1])\n",
    "        val_arr = np.array(v)\n",
    "        norms = val_arr / np.sum(val_arr)\n",
    "        topic_terms.append(dict(zip(k, norms * 100)))\n",
    "    return topic_terms\n",
    "\n",
    "\n",
    "def print_topic_terms(topic_terms):\n",
    "    for i, topic in enumerate(topic_terms):\n",
    "        l = sorted(topic.items(), key=lambda x: x[1])[::-1]\n",
    "        print \"Topic #\" + str(i)\n",
    "        txt_list = []\n",
    "        for item in l:\n",
    "            txt_list.append('%s (%.2f)' % (item[0], item[1]))\n",
    "        print '.'.join(txt_list)"
   ]
  },
  {
   "cell_type": "markdown",
   "metadata": {},
   "source": [
    "## article recommendations based on slack chats"
   ]
  },
  {
   "cell_type": "code",
   "execution_count": 149,
   "metadata": {
    "collapsed": false
   },
   "outputs": [
    {
     "name": "stdout",
     "output_type": "stream",
     "text": [
      "slack.txt\r\n"
     ]
    }
   ],
   "source": [
    "! ls ../../data"
   ]
  },
  {
   "cell_type": "code",
   "execution_count": 158,
   "metadata": {
    "collapsed": true
   },
   "outputs": [],
   "source": [
    "data_file = '../../data/slack.txt'\n",
    "with open(data_file, 'r') as in_fh:\n",
    "    data = in_fh.read()"
   ]
  },
  {
   "cell_type": "code",
   "execution_count": null,
   "metadata": {
    "collapsed": true
   },
   "outputs": [],
   "source": [
    "data2 = data.decode(('utf8'))"
   ]
  },
  {
   "cell_type": "code",
   "execution_count": null,
   "metadata": {
    "collapsed": true
   },
   "outputs": [],
   "source": []
  },
  {
   "cell_type": "code",
   "execution_count": 163,
   "metadata": {
    "collapsed": false
   },
   "outputs": [],
   "source": [
    "#data2 = data2.encode('ascii', 'ignore')\n",
    "test_X, tokenized_slacks = transform_tfidf(vectorizer, [data2])\n",
    "test_X = test_X.getA().flatten()"
   ]
  },
  {
   "cell_type": "code",
   "execution_count": 223,
   "metadata": {
    "collapsed": false
   },
   "outputs": [
    {
     "name": "stdout",
     "output_type": "stream",
     "text": [
      "[u'1034hmanu', u'vanconcelo', u'also', u'tammyl', 'am', u'tammyl', u'remind', u'tomorrow', u'mentor', u'mixer', u'69pm', u'new', u'event', u'this', u'wednesday', u'guest', u'speaker', u'ken', u'dooley', 'a', u'past', u'student', 'to', u'talk', u'about', u'the', u'project', u'you', u'can', u'view', u'his', u'project', 'at', u'tast.io', u'and', u'also', u'his', u'kendooley/tast.io', u'contribut', 'to', u'tast.io', u'develop', 'by', u'creat', 'an', u'account', 'on', u'tammyl', u'new', u'event', u'this', u'wednesday', u'lunchtim', u'talk', u'about', u'partner', u'project', u'yelp', u'data', u'scienc', u'contest', u'predict', u'restaur', u'health', u'score', u'giovanna', u'thron', u'also', u'today', 'at', u'6pm', u'were', u'have', 'a', u'happi', u'hour', u'for', u'the', u'new', 'ds', u'student', 'in', u'the', u'speakeasi', u'come', u'meet', u'them', u'they', u'are', u'like', u'you', u'week', u'ago', u'today', u'6:00pm', u'happi', u'hour', u'speakeasi', u'basement', u'tammyl', u'plea', u'use', u'this', u'for', u'your', u'sprint', u'coloredplottinginnetworkx/', u'michael.jancsi', u'giovanna', u'thron', u'happi', u'today', 'on', u'the', u'roof', u'weather', u'got', u'better', u'and', u'therel', 'be', 'a', u'camera', u'drone', u'kush', u'patel', u'gephi', 'is', 'an', u'open', u'sourc', u'visual', u'and', u'explor', u'platform', u'avail', 'on', u'window', u'linux', u'and', u'mac', 'os', 'x.', 'it', u'support', u'all', u'type', 'of', u'network', u'june', u'2nd', u'gschool', u'slackdata', u'charset=utf-8', u'3cdiv', u'20id', '3d', u'22msg_1433184049_000002', u'20class', '3d', u'22messag', u'20join', u'20show_1/4', u'lepenski', u'v=bs5p_laqivg', u'feature=youtu.b', u'kung', u'furi', 'am', u'youtub', u'laserunicorn', u'kung', u'furi', u'offici', u'movi', 'hd', u'jose', u'buraschi', u'amazon', u'access', u'key', u'and', u'access', u'secret', u'store', 'it', 'in', 'a', u'separ', u'file', u'instead', 'of', u'includ', 'it', u'direct', 'in', u'your', 'py', u'sourc', u'the', u'separ', u'file', u'should', 'be', 'in', 'a', u'secur', u'locat', u'and', u'not', 'in', u'your', u'public', 'or', 'in', u'your', u'pull', u'request', u'read', u'the', u'properti', u'file', u'from', u'your', u'python', u'code', 'in', u'the', u'follow', u'manner', u'from', u'configobj', u'import', u'configobj', u'configobj', u'rootkey.csv', u'connect', 'to', 's3', u'access_key', u'access_secret_key', u'awsaccesskeyid', u'awssecretkey', u'conn', u'boto.connect_s3', u'access_key', u'access_secret_key', 'g', u'scott', u'stukey', u'there', 'a', u'giant', u'vs.', u'met', u'game', 'on', u'monday', u'jul', u'6th', u'last', u'week', 'of', u'class', 'i', u'found', 'a', u'set', 'of', u'bleacher', u'tix', u'next', 'to', u'each', u'other', u'for', 'a', u'super', u'low', u'price', 'ea', u'with', u'fee', u'probabl', u'closer', 'to', 'ea', u'ticket_id=1141160424', u'down', 'to', u'get', 'a', u'group', u'togeth', u'lepenski', u'dude', u'the', u'met', u'suck', u'piratritasavit', 'go', u'giant', u'fyi', u'here', u'are', u'some', u'photo', u'from', u'tonight', u'mentor', u'mixer', u'gschool', u'slackdata', u'charset=utf-8', u'3cdiv', u'20id', '3d', u'22msg_1433184049_000002', u'20class', '3d', u'22messag', u'20join', u'20show_2/4', u'set=oa.394873287383934', u'type=1', u'yesterday', 'g', u'scott', u'stukey', u'piratritasavit', u'photo', u'set', 'is', u'unavail', 'am', u'piratritasavit', u'are', u'you', u'part', 'of', u'the', u'galvan', 'sf', u'facebook', u'page', 'am', u'lepenski', 'my', u'invit', u'for', u'the', u'page', u'was', u'been', u'pend', u'for', 'a', u'while', u'now', 'am', u'giovanna', u'thron', u'there', u'some', u'food', u'peopl', u'are', u'tri', 'to', u'get', u'rid', 'of', u'down', 'in', u'the', u'cafe', u'youd', u'like', 'go', u'help', u'yourselv', 'if', u'tammyl', 'a', u'big', u'ole', u'list', 'of', u'public', u'dataset', u'listofpublicdataset', u'utm_content=buffera00d8', u'utm_medium=soci', u'utm_source=twitter.com', u'utm_campaign=buff', 'er', u'great', u'list', 'of', u'public', u'data', u'set', u'mani', u'data', u'set', u'resourc', u'have', u'been', u'publish', 'on', u'dsc', u'both', u'big', u'and', u'littl', u'data', u'some', u'associ', u'with', u'our', u'data', u'scienc', u'apprenticeship', 'a', u'list', u'can', 'be', u'found', u'here', 'b', u'greg', u'kamradt', u'just', u'found', 'a', u'link', 'to', 'a', u'bunch', 'of', u'data', u'scienc', u'interview', u'question', u'check', 'em', u'out', u'id=7718', u'jonathan', u'dinu', u'jonathan', u'dinu', u'channel', u'hey', u'everyon', 'i', \"'m\", u'realli', u'excit', 'to', 'be', u'teach', u'the', u'class', 'on', u'data', u'visual', 'on', u'this', u'monday', u'for', u'the', u'sprint', 'we', u'will', u'on', 'be', u'use', u'python', u'visual', u'librari', u'and', 'go', u'over', 'a', u'bit', 'of', u'visual', u'theori', u'for', u'anyon', u'who', 'is', u'interest', 'in', u'd3.js', u'and', u'web', u'base', u'visual', 'i', u'will', 'be', u'hold', 'a', u'd3.js', u'workshop', u'this', u'saturday', u'around', u'noon', u'here', 'at', u'galvan', 'as', u'part', 'of', u'the', u'civic', u'data', u'hackathon', u'let', 'me', u'know', 'if', u'you', u'are', u'interest', 'in', u'learn', u'more', u'about', u'd3.js', u'and', u'want', 'to', 'go', 'to', u'this', u'workshop', u'plea', 'or', u'think', u'you', u'might', u'use', 'it', u'for', u'your', u'project', u'edit', u'today', u'gschool', u'slackdata', u'charset=utf-8', u'3cdiv', u'20id', '3d', u'22msg_1433184049_000002', u'20class', '3d', u'22messag', u'20join', u'20show_3/4', u'jon', u'oleson', u'truth', 'am', u'1mb', u'vikram', u'natarajan', 'if', u'anyon', u'have', u'troubl', u'start', u'their', u'master', u'session', u'tri', 'ad', 'a', u'space', u'just', u'befor', u'the', u'backslash', 'at', u'the', u'end', 'of', u'each', u'line', 'of', u'the', u'command', u'new', u'messag', u'vikram', u'natarajan', u'idk', 'if', u'anyon', u'still', 'do', u'the', u'morn', u'sprint', u'but', u'there', u'are', 'a', u'coupl', u'miss', u'valu', 'in', u'row', 'of', u'the', u'airlin', u'data', u'just', 'in', u'case', u'zein', u'tawil', 'i', u'think', u'the', u'instruct', u'tell', u'you', u'how', 'to', u'deal', u'with', u'this', u'fwiw', u'gschool', u'slackdata', u'charset=utf-8', u'3cdiv', u'20id', '3d', u'22msg_1433184049_000002', u'20class', '3d', u'22messag', u'20join', u'20show_4/4']\n"
     ]
    }
   ],
   "source": [
    "stop_words_fix = [ u'text/html', 'pm', 'http' 'io','com', 'github', 'www' ,'config', 'html', 'js' ,'https', 'join', 'repo','chris',u'http']\n",
    "cleaned_slack = []\n",
    "for w in tokenized_slacks[0]:\n",
    "    if  re.search('[a-zA-Z]',w) and '//' not in w and 'sf_ds' not in w:\n",
    "        if w not in stop_words_fix:\n",
    "            cleaned_slack.append(w)\n",
    "print cleaned_slack"
   ]
  },
  {
   "cell_type": "code",
   "execution_count": 224,
   "metadata": {
    "collapsed": true
   },
   "outputs": [],
   "source": [
    "cleaned_slack = ' '.join(cleaned_slack)"
   ]
  },
  {
   "cell_type": "code",
   "execution_count": 225,
   "metadata": {
    "collapsed": false
   },
   "outputs": [],
   "source": [
    "test_X2, tokenized_slacks2 = transform_tfidf(vectorizer, [cleaned_slack])\n",
    "test_X2 = test_X2.getA().flatten()"
   ]
  },
  {
   "cell_type": "markdown",
   "metadata": {},
   "source": [
    "#### most common words in 06-04 slack"
   ]
  },
  {
   "cell_type": "code",
   "execution_count": 229,
   "metadata": {
    "collapsed": false
   },
   "outputs": [
    {
     "name": "stdout",
     "output_type": "stream",
     "text": [
      "3d (0.52), js (0.19), d3 (0.19), tast (0.17), visual (0.17), plea (0.16), io (0.15), happi (0.15), today (0.13), anyon (0.12), set (0.12), data (0.12), jonathan (0.12), mentor (0.11), scott (0.11), project (0.11), file (0.11), workshop (0.11), photo (0.10), met (0.10), list (0.09), monday (0.09), wednesday (0.09), giant (0.09), public (0.08), separ (0.08), em (0.07), page (0.07), hour (0.07), new (0.07), python (0.07), event (0.07), tonight (0.07), ds (0.07), class (0.07), os (0.07), just (0.07), student (0.07), suck (0.07), yelp (0.07), talk (0.07), scienc (0.07), sf (0.07), jon (0.06), access (0.06), rid (0.06), type (0.06), greg (0.06), civic (0.06), drone (0.06), jose (0.06), s3 (0.06), mac (0.06), guest (0.06), week (0.06), tomorrow (0.06), sourc (0.06), camera (0.06), airlin (0.06), linux (0.06), youd (0.06), saturday (0.05), csv (0.05), manner (0.05), restaur (0.05), youtub (0.05), remind (0.05), fee (0.05), bunch (0.05), contest (0.05), tri (0.05), think (0.05), buff (0.05), invit (0.05), troubl (0.05), instruct (0.05), morn (0.05), channel (0.05), truth (0.05), command (0.05), movi (0.05), super (0.05), weather (0.05), window (0.05), speaker (0.05), properti (0.05), closer (0.05), use (0.05), secret (0.05), session (0.05), id (0.04), row (0.04), vs (0.04), theori (0.04), master (0.04), pull (0.04), teach (0.04), request (0.04), june (0.04), big (0.04)\n"
     ]
    }
   ],
   "source": [
    "top_n = 100\n",
    "desc_feature_indexes = list(np.argsort(test_X2)[::-1])\n",
    "#print test_X2[desc_feature_indexes[:top_n]]\n",
    "features = vectorizer.get_feature_names()\n",
    "txt_list = []\n",
    "for i in desc_feature_indexes[:top_n] :\n",
    "    txt_list.append('%s (%.2f)' % (features[i], test_X2[i]))\n",
    "print ', '.join(txt_list)"
   ]
  },
  {
   "cell_type": "markdown",
   "metadata": {},
   "source": [
    "#### most relevant articles"
   ]
  },
  {
   "cell_type": "code",
   "execution_count": 231,
   "metadata": {
    "collapsed": false
   },
   "outputs": [],
   "source": [
    "cosine_similarities = linear_kernel(vectorized_X, test_X).flatten()"
   ]
  },
  {
   "cell_type": "code",
   "execution_count": 232,
   "metadata": {
    "collapsed": false
   },
   "outputs": [
    {
     "data": {
      "image/png": "[encoded data removed]",
      "text/plain": [
       "<matplotlib.figure.Figure at 0x10adf1d50>"
      ]
     },
     "metadata": {},
     "output_type": "display_data"
    }
   ],
   "source": [
    "plt.hist(cosine_similarities,bins=30)\n",
    "plt.show()"
   ]
  },
  {
   "cell_type": "code",
   "execution_count": 234,
   "metadata": {
    "collapsed": false
   },
   "outputs": [
    {
     "name": "stdout",
     "output_type": "stream",
     "text": [
      "0.207216752819 ***Practical Text Analysis using Deep Learning ***\n",
      "http://blog.dato.com/practical-text-analysis-using-deep-learning\n",
      "Practical Text Analysis using Deep Learning\n",
      "Posted by Michael Fire on May 1, 2015 7:00:00 AM\n",
      "Topics: Machine Learning Models , Text Classification , Data Science\n",
      "Deep Learning has become a household buzzword these days, and I have not stopped hearing about it. In the beginning, I thought it was anot\n",
      "\n",
      "0.168527292086 ***Why Do Ben 10s Divorce Sugar Mamas? ***\n",
      "http://www.iafrikan.com/2015/05/25/ben10-sugar-mama-south-africa-marriage-data/\n",
      "Why Do Ben 10s Divorce Sugar Mamas?\n",
      "25 May 2015\n",
      "Article Image\n",
      "South Africa is one of the few countries on the continent that publishes marriage and divorce data. Even better, Statistics South Africa (StatsSA) makes available individual (couple) information about marriages and divorces. This allows u\n",
      "\n",
      "0.166703730939 *** ***\n",
      "http://www.nytimes.com/2014/11/08/us/politics/republicans-beat-democrats-at-their-own-ground-game.html\n",
      "The Republicans’ ground game and digital strategy in 2012 were disasters, bad enough to become a political punch line. The party was determined not to repeat those mistakes, and operatives were well on their way to overhauling its systems this election cycle when the Democrats announced their “Banno\n",
      "\n",
      "0.164425129496 ***Top Trends in Analytics and Big Data ahead of Strata 2014 Santa Clara***\n",
      "http://www.kdnuggets.com/2014/01/top-trends-analytics-big-data-strata-2014-santa-clara.html\n",
      "Tags: 2014 Trends , Analytics for the masses , Apache Spark , Real-time , Strata\n",
      "Our survey ahead of Strata 2014 Conference revealed the top 3 trends in Analytics and Big Data for 2014: Analytics for the masses, Apache Spark, and Real Time Analytics. Read the interesting comments and details and get\n",
      "\n",
      "0.156285685788 ***KDnuggets Exclusive: Interview with Quentin Clark, CVP, Microsoft Data Platform Group***\n",
      "http://www.kdnuggets.com/2014/03/exclusive-interview-quentin-clark-microsoft-data-platform-group.html\n",
      "Anmol Rajpurohit , March 6, 2014.\n",
      "As corporate vice president of program management for the Microsoft Data Platform Group, Quentin Clark oversees the design and delivery of the entire family of SQL Server and BI products as well as the Azure Data Platform services. Clark joined Microsoft in 1994, an\n",
      "\n"
     ]
    }
   ],
   "source": [
    "desc_sim_indexes = np.argsort(cosine_similarities)[::-1]\n",
    "cosine_similarities[desc_sim_indexes[:5]]\n",
    "for i in desc_sim_indexes[:5]:\n",
    "    url = df2.iloc[i].url\n",
    "    print cosine_similarities[i], '***'+article_dict_all.get(url,' ')+'***'\n",
    "    print url\n",
    "    print df2.iloc[i].body_text[:300]\n",
    "    print "
   ]
  },
  {
   "cell_type": "markdown",
   "metadata": {},
   "source": [
    "### recommend articles based on known user rating"
   ]
  },
  {
   "cell_type": "code",
   "execution_count": null,
   "metadata": {
    "collapsed": true
   },
   "outputs": [],
   "source": []
  },
  {
   "cell_type": "code",
   "execution_count": null,
   "metadata": {
    "collapsed": true
   },
   "outputs": [],
   "source": []
  },
  {
   "cell_type": "code",
   "execution_count": null,
   "metadata": {
    "collapsed": true
   },
   "outputs": [],
   "source": []
  },
  {
   "cell_type": "code",
   "execution_count": null,
   "metadata": {
    "collapsed": true
   },
   "outputs": [],
   "source": []
  },
  {
   "cell_type": "code",
   "execution_count": 160,
   "metadata": {
    "collapsed": false
   },
   "outputs": [
    {
     "data": {
      "text/plain": [
       "['\\x1b',\n",
       " '[',\n",
       " '?',\n",
       " u'1034hmanu',\n",
       " u'vanconcelo',\n",
       " u'join',\n",
       " '#',\n",
       " u'sf_ds_april_2015',\n",
       " '.',\n",
       " u'also']"
      ]
     },
     "execution_count": 160,
     "metadata": {},
     "output_type": "execute_result"
    }
   ],
   "source": [
    "tokenized_slacks[0][:10]"
   ]
  },
  {
   "cell_type": "code",
   "execution_count": null,
   "metadata": {
    "collapsed": true
   },
   "outputs": [],
   "source": [
    "n_topics = 20\n",
    "#n_top_words = 5\n",
    "t0 = time.time()\n",
    "print(\"Fitting the NMF model with\") # n_samples=%d and n_features=%d...\"\n",
    "    #  % ())\n",
    "nmf = NMF(n_components=n_topics, random_state=1).fit(X2)"
   ]
  },
  {
   "cell_type": "code",
   "execution_count": 68,
   "metadata": {
    "collapsed": false
   },
   "outputs": [
    {
     "name": "stdout",
     "output_type": "stream",
     "text": [
      "done in 149.048s.\n",
      "Topic #0:\n",
      "data big scienc scientist busi insight engin analysi tool team visual work open program collect softwar databas skill 2014 need\n",
      "\n",
      "Topic #1:\n",
      "ly buff bigdata datasci tweet bit kdnugget shrd data analyt rstat scientist free twitter python 10 popular bigdataco scienc retweet\n",
      "\n",
      "Topic #2:\n",
      "privaci said law inform consum collect compani mr data protect obama person secur report agenc govern use feder podesta hous\n",
      "\n",
      "Topic #3:\n",
      "student school colleg educ teacher graduat univers program degre parent cours teach class year mr skill classroom mooc children job\n",
      "\n",
      "Topic #4:\n",
      "model predict dataset train use data bigml machin api regress featur servic aw evalu learn classif creat build tree amazon\n",
      "\n",
      "Topic #5:\n",
      "analyt busi predict custom confer industri 2014 manag big paw profession text leader advanc session webinar world practition speaker expert\n",
      "\n",
      "Topic #6:\n",
      "percent republican democrat poll voter digit year vote million campaign elect signific news polit rent newslett 2015 parti survey american\n",
      "\n",
      "Topic #7:\n",
      "compani said mr cloud custom busi servic softwar bank invest market comput alibaba product million firm amazon credit technolog billion\n",
      "\n",
      "Topic #8:\n",
      "new york agenc director presid offic vice creativ group join media market execut chief divis digit brand worldwid post manag\n",
      "\n",
      "Topic #9:\n",
      "game team cup win player nba women final play season cleveland warrior rate chanc percent cav year irv score seri\n",
      "\n",
      "Topic #10:\n",
      "said research dr scientist univers studi scienc paper year mr new publish journal institut speci water professor project technolog scientif\n",
      "\n",
      "Topic #11:\n",
      "drug patient fda medic cancer approv doctor health cholesterol diseas heart medicar risk hospit studi women sexual care clinic treatment\n",
      "\n",
      "Topic #12:\n",
      "hadoop spark cluster apach cloudera big develop softwar intel cloud ca sourc data summit platform sparkr sql open run distribut\n",
      "\n",
      "Topic #13:\n",
      "python notebook packag languag ipython tutori instal use code librari scikit visual github interact user tool api platform rodeo version\n",
      "\n",
      "Topic #14:\n",
      "function np word plt use cluster vector imag distribut layer text train network plot featur input set exampl valu point\n",
      "\n",
      "Topic #15:\n",
      "peopl like think thing human work googl just want make way time know realli dont good lot becaus search look\n",
      "\n",
      "Topic #16:\n",
      "statist analysi experi data appli book method scienc test problem mathemat program infer model design comput statistician bayesian skill tool\n",
      "\n",
      "Topic #17:\n",
      "learn machin deep neural scikit comput network book algorithm kaggl cours introduct recognit ai video use imag ebook competit tutori\n",
      "\n",
      "Topic #18:\n",
      "ibm watson appl compani busi said activist revenu cloud billion twitter technolog rometti partnership growth comput softwar analyst year sale\n",
      "\n",
      "Topic #19:\n",
      "facebook user research studi social peopl news feed post compani friend apolog network content emot experi ideolog site polit media\n",
      "\n"
     ]
    }
   ],
   "source": [
    "print(\"done in %0.3fs.\" % (time.time() - t0))\n",
    "n_top_words = 20\n",
    "feature_names = vectorizer.get_feature_names()\n",
    "\n",
    "for topic_idx, topic in enumerate(nmf.components_):\n",
    "    print(\"Topic #%d:\" % topic_idx)\n",
    "    print(\" \".join([feature_names[i]\n",
    "                    for i in topic.argsort()[:-n_top_words - 1:-1]]))\n",
    "    print"
   ]
  },
  {
   "cell_type": "code",
   "execution_count": 73,
   "metadata": {
    "collapsed": false
   },
   "outputs": [
    {
     "name": "stdout",
     "output_type": "stream",
     "text": [
      "Topic #0\n",
      "data (27.02).big (8.30).scienc (7.20).scientist (5.82).busi (2.35).insight (2.19).engin (1.98).analysi (1.86).tool (1.65).team (1.52).visual (1.47).work (1.47).open (1.45).program (1.39).collect (1.32).softwar (1.28).databas (1.23).skill (1.23).2014 (1.20).need (1.19).role (1.18).prepar (1.14).analyz (1.14).field (1.11).project (1.10).use (1.05).access (1.03).inform (0.98).sourc (0.96).focus (0.96).import (0.92).challeng (0.92).strata (0.90).start (0.90).domain (0.88).discoveri (0.87).gregori (0.87).question (0.87).excel (0.86).compani (0.86).build (0.85).technic (0.84).key (0.84).present (0.84).product (0.83).knowledg (0.80).decis (0.80).great (0.79).techniqu (0.79)\n",
      "Topic #1\n",
      "ly (21.46).buff (17.88).bigdata (5.88).datasci (3.51).tweet (3.27).bit (2.97).kdnugget (2.89).shrd (2.50).data (2.48).analyt (2.20).rstat (1.95).scientist (1.61).free (1.57).twitter (1.55).python (1.42).10 (1.41).popular (1.27).bigdataco (1.23).scienc (1.20).retweet (1.15).vs (1.10).favorit (1.00).learn (0.99).machin (0.93).jan (0.87).startup (0.87).feb (0.83).cartoon (0.80).com (0.78).salari (0.78).tutori (0.77).ebook (0.76).mar (0.73).julia (0.67).good (0.66).googl (0.64).great (0.63).sas (0.63).apach (0.63).view (0.62).2014 (0.62).book (0.58).predict (0.56).netflix (0.56).onlin (0.54).stanford (0.53).faster (0.53).buy (0.51).coursera (0.51)\n",
      "Topic #2\n",
      "privaci (7.48).said (4.21).law (3.81).inform (3.74).consum (3.58).collect (3.51).compani (3.45).mr (3.44).data (3.27).protect (3.08).obama (2.90).person (2.73).secur (2.68).report (2.49).agenc (2.36).govern (2.31).use (2.30).feder (1.98).podesta (1.97).hous (1.85).american (1.81).white (1.81).propos (1.50).legisl (1.48).breach (1.41).advertis (1.40).servic (1.36).app (1.34).state (1.33).internet (1.33).track (1.31).surveil (1.29).congress (1.28).onlin (1.25).snowden (1.22).control (1.22).concern (1.19).appl (1.18).privat (1.18).individu (1.17).presid (1.17).technolog (1.16).like (1.13).broker (1.12).intellig (1.09).regul (1.06).administr (1.04).user (1.03).issu (1.01)\n",
      "Topic #3\n",
      "student (13.50).school (7.75).colleg (7.73).educ (5.85).teacher (5.51).graduat (4.21).univers (3.01).program (2.95).degre (2.36).parent (2.27).cours (2.13).teach (1.68).class (1.67).year (1.60).mr (1.49).skill (1.48).classroom (1.43).mooc (1.42).children (1.37).job (1.35).alumni (1.34).onlin (1.34).new (1.33).district (1.22).high (1.19).campus (1.18).test (1.18).enrol (1.10).incom (1.07).employ (1.07).higher (1.07).professor (1.05).academ (1.05).state (1.01).learn (1.01).grade (0.97).scienc (0.96).institut (0.94).ms (0.91).earn (0.89).offer (0.86).score (0.84).master (0.83).math (0.82).attend (0.82).career (0.81).tech (0.79).loan (0.79).certif (0.79)\n",
      "Topic #4\n",
      "model (14.18).predict (8.16).dataset (5.24).train (4.01).use (3.18).data (2.79).bigml (2.64).machin (2.61).api (2.54).regress (2.41).featur (2.20).servic (2.15).aw (2.12).evalu (1.96).learn (1.83).classif (1.82).creat (1.79).build (1.72).tree (1.58).amazon (1.56).test (1.49).azur (1.46).variabl (1.45).linear (1.35).set (1.33).logist (1.31).perform (1.27).target (1.26).input (1.20).case (1.20).new (1.18).accuraci (1.18).valu (1.17).decis (1.16).provid (1.13).score (1.13).ensembl (1.11).need (1.09).fit (1.09).method (1.06).generat (1.06).result (1.06).column (1.03).real (1.01).detect (0.99).experi (0.97).sampl (0.97).file (0.92).walk (0.88)\n",
      "Topic #5\n",
      "analyt (20.07).busi (5.38).predict (3.56).custom (2.96).confer (2.95).industri (2.86).2014 (2.54).manag (2.24).big (1.96).paw (1.94).profession (1.81).text (1.80).leader (1.78).advanc (1.70).session (1.69).webinar (1.63).world (1.60).practition (1.52).speaker (1.50).expert (1.49).innov (1.46).practic (1.44).experi (1.44).kdnugget (1.44).inform (1.43).solut (1.42).boston (1.40).regist (1.35).bi (1.35).market (1.35).provid (1.31).meet (1.30).summit (1.30).platform (1.28).skill (1.27).organ (1.25).ca (1.24).strateg (1.23).www (1.21).event (1.20).sas (1.19).insight (1.19).compani (1.16).cours (1.16).workshop (1.16).toronto (1.13).keynot (1.13).march (1.12).chicago (1.11)\n",
      "Topic #6\n",
      "percent (6.15).republican (5.66).democrat (4.44).poll (4.10).voter (3.68).digit (3.31).year (3.17).vote (3.02).million (3.01).campaign (2.91).elect (2.90).signific (2.80).news (2.80).polit (2.37).rent (1.99).newslett (1.96).2015 (1.88).parti (1.82).survey (1.76).american (1.74).nation (1.66).senat (1.65).2014 (1.65).candid (1.62).state (1.60).report (1.57).number (1.57).000 (1.52).graham (1.51).presidenti (1.40).street (1.39).month (1.36).committe (1.36).job (1.32).straw (1.28).peopl (1.25).hous (1.22).liber (1.22).accord (1.22).pleas (1.17).10 (1.17).time (1.17).sign (1.15).12 (1.13).past (1.10).conserv (1.08).gop (1.07).walthickey (1.06).iowa (1.06)\n",
      "Topic #7\n",
      "compani (6.84).said (5.63).mr (3.50).cloud (3.19).custom (3.08).busi (2.87).servic (2.86).softwar (2.73).bank (2.65).invest (2.64).market (2.52).comput (2.43).alibaba (2.15).product (2.04).million (2.03).firm (2.00).amazon (1.97).credit (1.95).technolog (1.92).billion (1.89).googl (1.86).ventur (1.84).internet (1.83).year (1.81).offer (1.73).capit (1.70).fund (1.69).china (1.65).financi (1.65).big (1.62).investor (1.59).loan (1.56).new (1.54).start (1.54).execut (1.49).manag (1.46).chief (1.39).data (1.38).percent (1.34).money (1.32).make (1.28).sell (1.27).intel (1.26).industri (1.24).card (1.23).like (1.22).onlin (1.22).consum (1.22).price (1.20)\n",
      "Topic #8\n",
      "new (4.93).york (4.71).agenc (4.08).director (3.92).presid (3.82).offic (3.76).vice (3.75).creativ (3.61).group (3.29).join (3.15).media (3.12).market (2.81).execut (2.67).chief (2.33).divis (2.10).digit (2.03).brand (1.91).worldwid (1.84).post (1.83).manag (1.82).client (1.81).senior (1.80).advertis (1.77).wpp (1.67).global (1.65).ad (1.51).mr (1.41).angel (1.40).hava (1.40).publici (1.38).los (1.36).saatchi (1.34).work (1.32).experi (1.31).strategi (1.31).technolog (1.30).disclos (1.28).sale (1.21).hire (1.17).citi (1.14).handl (1.14).ogilvi (1.14).becom (1.13).calif (1.13).develop (1.13).america (1.09).team (1.09).north (1.06).partner (1.06)\n",
      "Topic #9\n",
      "game (8.53).team (5.93).cup (3.59).win (3.58).player (3.48).nba (3.41).women (2.87).final (2.78).play (2.76).season (2.71).cleveland (2.62).warrior (2.53).rate (2.38).chanc (2.28).percent (2.13).cav (2.06).year (1.84).irv (1.83).score (1.80).seri (1.79).sport (1.64).jame (1.63).point (1.53).match (1.52).elo (1.52).coach (1.51).fan (1.51).world (1.48).playoff (1.47).tournament (1.45).golden (1.40).podcast (1.38).injuri (1.35).2015 (1.35).leagu (1.34).fivethirtyeight (1.34).lebron (1.32).won (1.30).soccer (1.26).shoot (1.25).shot (1.23).cavali (1.21).probabl (1.19).hockey (1.19).uswnt (1.18).defens (1.17).offens (1.14).talent (1.13).week (1.13)\n",
      "Topic #10\n",
      "said (8.75).research (6.60).dr (5.71).scientist (3.95).univers (3.69).studi (3.56).scienc (2.96).paper (2.68).year (2.29).mr (2.25).new (2.14).publish (2.12).journal (2.05).institut (2.04).speci (2.02).water (1.88).professor (1.83).project (1.78).technolog (1.71).scientif (1.58).genom (1.57).citi (1.57).ocean (1.55).center (1.51).children (1.51).human (1.48).biolog (1.44).health (1.42).food (1.42).anim (1.39).gene (1.39).virus (1.36).comput (1.34).lacour (1.33).author (1.33).genet (1.32).nation (1.31).cell (1.29).climat (1.27).retract (1.27).chang (1.26).temperatur (1.25).warm (1.23).diseas (1.18).public (1.11).urban (1.10).risk (1.10).000 (1.09).peopl (1.06)\n",
      "Topic #11\n",
      "drug (12.42).patient (7.88).fda (4.78).medic (3.20).cancer (3.10).approv (3.09).doctor (3.01).health (2.90).cholesterol (2.71).diseas (2.56).heart (2.37).medicar (2.32).risk (2.03).hospit (1.94).studi (1.87).women (1.87).sexual (1.75).care (1.70).clinic (1.66).treatment (1.61).flibanserin (1.61).statin (1.58).watson (1.55).insur (1.49).blood (1.47).medicin (1.41).report (1.36).effect (1.30).trial (1.30).pharmaceut (1.26).treat (1.26).attack (1.22).disord (1.20).mutat (1.18).panel (1.18).caus (1.17).physician (1.16).benefit (1.12).death (1.12).use (1.12).agenc (1.09).say (1.07).sprout (1.02).group (1.02).vertex (1.01).cystic (1.00).fibrosi (1.00).antibiot (0.99).said (0.98)\n",
      "Topic #12\n",
      "hadoop (12.79).spark (10.60).cluster (3.39).apach (3.30).cloudera (3.16).big (2.92).develop (2.64).softwar (2.51).intel (2.49).cloud (2.39).ca (2.16).sourc (2.03).data (1.99).summit (1.98).platform (1.88).sparkr (1.83).sql (1.82).open (1.69).run (1.64).distribut (1.60).use (1.53).releas (1.50).alpin (1.49).enterpris (1.49).confer (1.45).databas (1.43).project (1.35).server (1.31).scala (1.31).mapreduc (1.31).hortonwork (1.30).databrick (1.28).memori (1.28).provid (1.23).san (1.22).manag (1.20).pivot (1.15).java (1.14).warehous (1.11).integr (1.06).train (1.05).discount (1.04).comput (1.01).support (1.01).api (1.00).tool (1.00).workload (0.99).engin (0.98).nosql (0.98)\n",
      "Topic #13\n",
      "python (11.07).notebook (5.13).packag (4.63).languag (4.20).ipython (3.56).tutori (3.44).instal (2.94).use (2.91).code (2.71).librari (2.59).scikit (2.46).visual (2.36).github (2.31).interact (2.26).user (2.14).tool (1.95).api (1.79).platform (1.75).rodeo (1.71).version (1.66).data (1.56).workflow (1.55).pleas (1.53).featur (1.49).video (1.48).file (1.47).program (1.46).avail (1.45).analysi (1.41).nbviewer (1.40).load (1.35).free (1.28).numpi (1.26).web (1.25).ll (1.24).publish (1.20).interfac (1.17).run (1.15).easili (1.14).graph (1.12).check (1.12).programm (1.11).panda (1.05).com (1.05).easi (1.04).ve (1.04).integr (1.02).learn (1.00).server (0.99)\n",
      "Topic #14\n",
      "function (3.58).np (3.48).word (3.40).plt (3.14).use (3.10).cluster (3.05).vector (2.85).imag (2.69).distribut (2.54).layer (2.48).text (2.46).train (2.40).network (2.39).plot (2.39).featur (2.37).input (2.36).set (2.33).exampl (2.30).valu (2.09).point (2.02).mean (1.94).column (1.92).number (1.88).label (1.84).neural (1.81).data (1.77).code (1.77).classifi (1.74).random (1.74).paramet (1.71).import (1.62).dimension (1.61).output (1.57).ax (1.55).array (1.54).algorithm (1.54).tabl (1.54).row (1.53).graph (1.50).iter (1.50).method (1.50).line (1.48).df (1.47).return (1.46).sampl (1.45).kernel (1.45).implement (1.43).document (1.36).differ (1.35)\n",
      "Topic #15\n",
      "peopl (4.81).like (4.42).think (3.41).thing (3.18).human (3.09).work (3.05).googl (2.99).just (2.75).want (2.72).make (2.61).way (2.55).time (2.50).know (2.47).realli (2.24).dont (2.13).good (2.08).lot (2.06).becaus (2.00).search (1.92).look (1.88).someth (1.85).use (1.83).algorithm (1.82).need (1.73).understand (1.73).question (1.66).say (1.65).book (1.65).problem (1.65).veri (1.61).talk (1.60).everi (1.60).mani (1.60).idea (1.59).write (1.55).job (1.51).differ (1.48).person (1.48).doe (1.47).ani (1.47).kind (1.45).right (1.45).tri (1.44).onli (1.42).better (1.40).start (1.39).chang (1.37).recommend (1.36).world (1.32)\n",
      "Topic #16\n",
      "statist (16.54).analysi (4.84).experi (3.24).data (2.87).appli (2.85).book (2.79).method (2.67).scienc (2.65).test (2.46).problem (2.41).mathemat (2.41).program (2.21).infer (2.09).model (2.04).design (1.87).comput (1.83).statistician (1.82).bayesian (1.76).skill (1.62).tool (1.58).et (1.58).cours (1.55).valu (1.55).practic (1.51).techniqu (1.48).discuss (1.43).exampl (1.38).languag (1.35).distribut (1.35).disciplin (1.34).knowledg (1.34).algorithm (1.29).probabilist (1.28).result (1.26).foundat (1.25).signific (1.25).taught (1.24).regress (1.22).studi (1.21).busi (1.21).differ (1.21).chapter (1.18).uncertainti (1.18).think (1.18).requir (1.17).john (1.16).probabl (1.15).includ (1.11).set (1.06)\n",
      "Topic #17\n",
      "learn (17.15).machin (10.82).deep (5.09).neural (3.40).scikit (3.12).comput (2.69).network (2.43).book (2.35).algorithm (2.31).kaggl (1.99).cours (1.92).introduct (1.89).recognit (1.71).ai (1.68).video (1.67).use (1.66).imag (1.63).ebook (1.61).competit (1.47).tutori (1.42).skill (1.38).research (1.35).scienc (1.28).lectur (1.26).net (1.25).languag (1.24).problem (1.22).2015 (1.22).robot (1.18).intellig (1.16).lecun (1.13).process (1.10).start (1.10).work (1.07).program (1.06).aw (1.06).avail (1.06).free (1.06).lab (1.05).artifici (1.04).task (1.02).materi (1.00).post (0.99).read (0.96).classifi (0.96).cat (0.96).amazon (0.95).featur (0.95).practic (0.95)\n",
      "Topic #18\n",
      "ibm (17.18).watson (5.76).appl (3.70).compani (3.44).busi (3.24).said (3.22).activist (2.85).revenu (2.74).cloud (2.70).billion (2.63).twitter (2.43).technolog (2.09).rometti (2.04).partnership (2.00).growth (1.85).comput (1.84).softwar (1.84).analyst (1.78).year (1.71).sale (1.57).valueact (1.54).corpor (1.54).market (1.47).hardwar (1.45).mobil (1.43).mainfram (1.43).quarter (1.39).weather (1.28).servic (1.25).mr (1.22).profit (1.20).declin (1.14).corp (1.11).announc (1.10).investor (1.08).china (1.07).share (1.07).chip (1.05).percent (1.04).intellig (1.03).data (1.03).develop (1.03).artifici (1.00).persh (0.97).unit (0.96).server (0.92).target (0.90).moodi (0.87).sourc (0.85)\n",
      "Topic #19\n",
      "facebook (18.15).user (5.60).research (4.10).studi (3.65).social (3.41).peopl (3.18).news (2.90).feed (2.80).post (2.63).compani (2.52).friend (2.48).apolog (2.41).network (2.41).content (1.87).emot (1.84).experi (1.82).ideolog (1.78).site (1.70).polit (1.62).media (1.41).twitter (1.39).inform (1.37).mood (1.35).manipul (1.31).internet (1.30).appear (1.27).zuckerberg (1.24).chamber (1.20).wrote (1.20).person (1.18).click (1.15).like (1.15).messag (1.14).echo (1.14).said (1.13).publish (1.07).view (1.04).day (1.02).month (1.01).relationship (0.99).open (0.96).onlin (0.94).consent (0.93).theorist (0.91).stori (0.88).share (0.87).subject (0.86).test (0.86).googl (0.84)\n"
     ]
    }
   ],
   "source": [
    "topic_terms = get_top_topics_terms(vectorizer, H)\n",
    "print_topic_terms(topic_terms)"
   ]
  },
  {
   "cell_type": "code",
   "execution_count": 35,
   "metadata": {
    "collapsed": false
   },
   "outputs": [
    {
     "data": {
      "text/plain": [
       "numpy.matrixlib.defmatrix.matrix"
      ]
     },
     "execution_count": 35,
     "metadata": {},
     "output_type": "execute_result"
    }
   ],
   "source": [
    " t[np.ix_(irows, icols)]\n",
    "X2 = vectorized_X[list(cond)]\n",
    "len(vectorized_X), len(X2)"
   ]
  },
  {
   "cell_type": "code",
   "execution_count": 14,
   "metadata": {
    "collapsed": false
   },
   "outputs": [
    {
     "data": {
      "text/plain": [
       "count     1267.000000\n",
       "mean       933.573796\n",
       "std       1220.078270\n",
       "min          8.000000\n",
       "25%        311.500000\n",
       "50%        686.000000\n",
       "75%       1170.500000\n",
       "max      20075.000000\n",
       "Name: len, dtype: float64"
      ]
     },
     "execution_count": 14,
     "metadata": {},
     "output_type": "execute_result"
    }
   ],
   "source": [
    "df['len'].describe()"
   ]
  },
  {
   "cell_type": "code",
   "execution_count": 19,
   "metadata": {
    "collapsed": false
   },
   "outputs": [],
   "source": [
    "df['len_capped'] = df['len'].map(lambda x: x if x < 5000 else 5000 )"
   ]
  },
  {
   "cell_type": "code",
   "execution_count": 23,
   "metadata": {
    "collapsed": false
   },
   "outputs": [
    {
     "data": {
      "image/png": "[encoded data removed]",
      "text/plain": [
       "<matplotlib.figure.Figure at 0x11305fe90>"
      ]
     },
     "metadata": {},
     "output_type": "display_data"
    }
   ],
   "source": [
    "df[['len','len_capped']].hist( bins = 50)\n",
    "plt.show()"
   ]
  },
  {
   "cell_type": "code",
   "execution_count": 26,
   "metadata": {
    "collapsed": false
   },
   "outputs": [
    {
     "name": "stdout",
     "output_type": "stream",
     "text": [
      "30 (14, 5)\n",
      "50 (36, 5)\n",
      "100 (83, 5)\n",
      "4000 (25, 5)\n",
      "5000 (18, 5)\n"
     ]
    }
   ],
   "source": [
    "cuts_min = [30,50,100]\n",
    "for cut in cuts_min:\n",
    "    print cut, df[df['len']<cut].shape\n",
    "cuts_max = [4000,5000]\n",
    "for cut in cuts_max:\n",
    "    print cut, df[df['len']>cut].shape"
   ]
  },
  {
   "cell_type": "code",
   "execution_count": null,
   "metadata": {
    "collapsed": true
   },
   "outputs": [],
   "source": [
    "len_min = 50\n"
   ]
  },
  {
   "cell_type": "code",
   "execution_count": 15,
   "metadata": {
    "collapsed": false
   },
   "outputs": [
    {
     "data": {
      "text/plain": [
       "\"\\nregex = re.compile('<.+?>|[^a-zA-Z]')\\nporter = PorterStemmer()\\nstop_words_lst = stop_words = stopwords.words('english')\\n\\ndef tokenize(text):\\n    clean_txt = regex.sub(' ', text) #remove any characters that are not english characters.\\n    clean_txt = clean_txt.lower()\\n    #  punct_removed = ''.join([letter for letter in word if not letter in PUNCTUATION])???\\n    stemmed =  [porter.stem(w.strip(string.punctuation)) for w in re.split(' +', clean_txt)             if w not in stop_words_lst]\\n    return [w for w in stemmed if w != '']  \\n\""
      ]
     },
     "execution_count": 15,
     "metadata": {},
     "output_type": "execute_result"
    }
   ],
   "source": [
    "'''\n",
    "regex = re.compile('<.+?>|[^a-zA-Z]')\n",
    "porter = PorterStemmer()\n",
    "stop_words_lst = stop_words = stopwords.words('english')\n",
    "\n",
    "def tokenize(text):\n",
    "    clean_txt = regex.sub(' ', text) #remove any characters that are not english characters.\n",
    "    clean_txt = clean_txt.lower()\n",
    "    #  punct_removed = ''.join([letter for letter in word if not letter in PUNCTUATION])???\n",
    "    stemmed =  [porter.stem(w.strip(string.punctuation)) for w in re.split(' +', clean_txt) \\\n",
    "            if w not in stop_words_lst]\n",
    "    return [w for w in stemmed if w != '']  \n",
    "'''"
   ]
  },
  {
   "cell_type": "code",
   "execution_count": 293,
   "metadata": {
    "collapsed": false
   },
   "outputs": [
    {
     "data": {
      "text/html": [
       "<div style=\"max-height:1000px;max-width:1500px;overflow:auto;\">\n",
       "<table border=\"1\" class=\"dataframe\">\n",
       "  <thead>\n",
       "    <tr style=\"text-align: right;\">\n",
       "      <th></th>\n",
       "      <th>body_text</th>\n",
       "      <th>url</th>\n",
       "      <th>len</th>\n",
       "      <th>tokens</th>\n",
       "      <th>len_capped</th>\n",
       "      <th>uri</th>\n",
       "      <th>title</th>\n",
       "    </tr>\n",
       "  </thead>\n",
       "  <tbody>\n",
       "    <tr>\n",
       "      <th>0</th>\n",
       "      <td>Data Science in Python Tutorial, free tutorial...</td>\n",
       "      <td>http://www.kdnuggets.com/2014/01/top-tweets-ja...</td>\n",
       "      <td>347</td>\n",
       "      <td>[data, scienc, in, python, tutori, ,, free, tu...</td>\n",
       "      <td>347</td>\n",
       "      <td>www.kdnuggets.com</td>\n",
       "      <td>Top KDnuggets tweets, Jan 13-14: Data Science ...</td>\n",
       "    </tr>\n",
       "    <tr>\n",
       "      <th>1</th>\n",
       "      <td>A list of 150 Most Influential People on Twitt...</td>\n",
       "      <td>http://www.kdnuggets.com/2015/05/greycampus-15...</td>\n",
       "      <td>857</td>\n",
       "      <td>[a, list, of, 150, most, influenti, peopl, on,...</td>\n",
       "      <td>857</td>\n",
       "      <td>www.kdnuggets.com</td>\n",
       "      <td>150 Most\\nInfluential People in Big Data &amp; Hadoop</td>\n",
       "    </tr>\n",
       "    <tr>\n",
       "      <th>2</th>\n",
       "      <td>SAN FRANCISCO —  When bankers of the future de...</td>\n",
       "      <td>http://www.nytimes.com/2015/01/19/technology/b...</td>\n",
       "      <td>1409</td>\n",
       "      <td>[san, francisco, , when, banker, of, the, futu...</td>\n",
       "      <td>1409</td>\n",
       "      <td>www.nytimes.com</td>\n",
       "      <td>Unknown</td>\n",
       "    </tr>\n",
       "    <tr>\n",
       "      <th>3</th>\n",
       "      <td>By Sameer Manek .\\nI've noticed people frequen...</td>\n",
       "      <td>http://www.kdnuggets.com/2015/05/surprising-ra...</td>\n",
       "      <td>316</td>\n",
       "      <td>[by, sameer, manek, ., i, ve, notic, peopl, fr...</td>\n",
       "      <td>316</td>\n",
       "      <td>www.kdnuggets.com</td>\n",
       "      <td>Surprising Random Correlations</td>\n",
       "    </tr>\n",
       "    <tr>\n",
       "      <th>4</th>\n",
       "      <td>On Wednesday morning, during Google’s annual m...</td>\n",
       "      <td>http://www.nytimes.com/2015/06/06/opinion/joe-...</td>\n",
       "      <td>924</td>\n",
       "      <td>[on, wednesday, morn, ,, dure, googl, annual, ...</td>\n",
       "      <td>924</td>\n",
       "      <td>www.nytimes.com</td>\n",
       "      <td>Unknown</td>\n",
       "    </tr>\n",
       "  </tbody>\n",
       "</table>\n",
       "</div>"
      ],
      "text/plain": [
       "                                           body_text  \\\n",
       "0  Data Science in Python Tutorial, free tutorial...   \n",
       "1  A list of 150 Most Influential People on Twitt...   \n",
       "2  SAN FRANCISCO —  When bankers of the future de...   \n",
       "3  By Sameer Manek .\\nI've noticed people frequen...   \n",
       "4  On Wednesday morning, during Google’s annual m...   \n",
       "\n",
       "                                                 url   len  \\\n",
       "0  http://www.kdnuggets.com/2014/01/top-tweets-ja...   347   \n",
       "1  http://www.kdnuggets.com/2015/05/greycampus-15...   857   \n",
       "2  http://www.nytimes.com/2015/01/19/technology/b...  1409   \n",
       "3  http://www.kdnuggets.com/2015/05/surprising-ra...   316   \n",
       "4  http://www.nytimes.com/2015/06/06/opinion/joe-...   924   \n",
       "\n",
       "                                              tokens  len_capped  \\\n",
       "0  [data, scienc, in, python, tutori, ,, free, tu...         347   \n",
       "1  [a, list, of, 150, most, influenti, peopl, on,...         857   \n",
       "2  [san, francisco, , when, banker, of, the, futu...        1409   \n",
       "3  [by, sameer, manek, ., i, ve, notic, peopl, fr...         316   \n",
       "4  [on, wednesday, morn, ,, dure, googl, annual, ...         924   \n",
       "\n",
       "                 uri                                              title  \n",
       "0  www.kdnuggets.com  Top KDnuggets tweets, Jan 13-14: Data Science ...  \n",
       "1  www.kdnuggets.com  150 Most\\nInfluential People in Big Data & Hadoop  \n",
       "2    www.nytimes.com                                            Unknown  \n",
       "3  www.kdnuggets.com                     Surprising Random Correlations  \n",
       "4    www.nytimes.com                                            Unknown  "
      ]
     },
     "execution_count": 293,
     "metadata": {},
     "output_type": "execute_result"
    }
   ],
   "source": [
    "df2.head()"
   ]
  },
  {
   "cell_type": "code",
   "execution_count": 254,
   "metadata": {
    "collapsed": false
   },
   "outputs": [
    {
     "data": {
      "text/html": [
       "<div style=\"max-height:1000px;max-width:1500px;overflow:auto;\">\n",
       "<table border=\"1\" class=\"dataframe\">\n",
       "  <thead>\n",
       "    <tr style=\"text-align: right;\">\n",
       "      <th></th>\n",
       "      <th>body_text</th>\n",
       "      <th>url</th>\n",
       "      <th>len</th>\n",
       "      <th>tokens</th>\n",
       "      <th>len_capped</th>\n",
       "      <th>uri</th>\n",
       "      <th>title</th>\n",
       "    </tr>\n",
       "  </thead>\n",
       "  <tbody>\n",
       "    <tr>\n",
       "      <th>183</th>\n",
       "      <td>HARVARD BUSINESS REVIEW calls data science “th...</td>\n",
       "      <td>http://www.nytimes.com/2013/04/14/education/ed...</td>\n",
       "      <td>1193</td>\n",
       "      <td>[harvard, busi, review, call, data, scienc, th...</td>\n",
       "      <td>1193</td>\n",
       "      <td>www.nytimes.com</td>\n",
       "      <td>KDnuggets Exclusive: Interview with Quentin Cl...</td>\n",
       "    </tr>\n",
       "  </tbody>\n",
       "</table>\n",
       "</div>"
      ],
      "text/plain": [
       "                                             body_text  \\\n",
       "183  HARVARD BUSINESS REVIEW calls data science “th...   \n",
       "\n",
       "                                                   url   len  \\\n",
       "183  http://www.nytimes.com/2013/04/14/education/ed...  1193   \n",
       "\n",
       "                                                tokens  len_capped  \\\n",
       "183  [harvard, busi, review, call, data, scienc, th...        1193   \n",
       "\n",
       "                 uri                                              title  \n",
       "183  www.nytimes.com  KDnuggets Exclusive: Interview with Quentin Cl...  "
      ]
     },
     "execution_count": 254,
     "metadata": {},
     "output_type": "execute_result"
    }
   ],
   "source": [
    "url = \n",
    "df2[df2.url == url]"
   ]
  },
  {
   "cell_type": "code",
   "execution_count": 257,
   "metadata": {
    "collapsed": false
   },
   "outputs": [],
   "source": [
    "good_urls = ['http://www.bloomberg.com/news/articles/2015-06-04/help-wanted-black-belts-in-data', \n",
    "        'http://bits.blogs.nytimes.com/2015/04/28/less-noise-but-more-money-in-data-science/'\n",
    "       , 'http://bits.blogs.nytimes.com/2013/06/19/sizing-up-big-data-broadening-beyond-the-internet/'\n",
    "       ]\n",
    "meh_urls = ['http://bits.blogs.nytimes.com/2013/04/11/education-life-teaching-the-techies/' # too short, no content\n",
    ", 'http://www.nytimes.com/2013/04/14/education/edlife/universities-offer-courses-in-a-hot-new-field-data-science.html'  \n",
    "]"
   ]
  },
  {
   "cell_type": "code",
   "execution_count": 363,
   "metadata": {
    "collapsed": false
   },
   "outputs": [
    {
     "name": "stdout",
     "output_type": "stream",
     "text": [
      "[[220   4]\n",
      " [727   4]\n",
      " [901   4]\n",
      " [180   1]\n",
      " [851   1]]\n"
     ]
    }
   ],
   "source": [
    "def get_rating(good_urls, meh_urls, df2):\n",
    "    '''\n",
    "    generate rating_content from list of good and meh urls\n",
    "        -OUTPUT: rating_content list of list  (i_article, rating_score)\n",
    "    '''\n",
    "    score_good = 4\n",
    "    score_meh = 1\n",
    "    rating_content = []\n",
    "    cond1 = df2.url.isin(good_urls)\n",
    "    #print type(cond1)\n",
    "    #print cond1[:5]\n",
    "    #index_good = list(df2[cond1].index)\n",
    "    ilocs_good = [i for i in xrange(df2.shape[0]) if cond1.iloc[i]]\n",
    "    #print i_rows_good\n",
    "    \n",
    "    cond2 = df2.url.isin(meh_urls)\n",
    "    #index_meh = list(df2[cond2].index)\n",
    "    #print index_meh\n",
    "    ilocs_meh = [i for i in xrange(df2.shape[0]) if cond2.iloc[i]]\n",
    "    \n",
    "    for i in ilocs_good:\n",
    "        rating_content.append((i,score_good))\n",
    "    for i in ilocs_meh:\n",
    "         rating_content.append((i,score_meh))\n",
    "    return np.array(rating_content)\n",
    "print get_rating(good_urls, meh_urls, df2)    "
   ]
  },
  {
   "cell_type": "code",
   "execution_count": 362,
   "metadata": {
    "collapsed": false
   },
   "outputs": [
    {
     "name": "stdout",
     "output_type": "stream",
     "text": [
      "http://bits.blogs.nytimes.com/2013/06/19/sizing-up-big-data-broadening-beyond-the-internet/\n"
     ]
    }
   ],
   "source": [
    "print df2.iloc[220]['url']"
   ]
  },
  {
   "cell_type": "code",
   "execution_count": 279,
   "metadata": {
    "collapsed": false
   },
   "outputs": [],
   "source": [
    "sys.path.append('../recommender')\n",
    "from ItemItem import *"
   ]
  },
  {
   "cell_type": "code",
   "execution_count": 392,
   "metadata": {
    "collapsed": false
   },
   "outputs": [
    {
     "name": "stdout",
     "output_type": "stream",
     "text": [
      "[[220   4]\n",
      " [727   4]\n",
      " [901   4]\n",
      " [180   1]\n",
      " [851   1]]\n",
      "[180, 220, 727, 851, 901]\n"
     ]
    }
   ],
   "source": [
    "rating_content = get_rating(good_urls, meh_urls, df2)  \n",
    "rating_vec = np.zeros(df2.shape[0])\n",
    "for row in rating_content:\n",
    "    rating_vec[row[0]] =  row[1]\n",
    "print rating_content\n",
    "print [i for i in xrange(len(rating_vec)) if rating_vec[i]>0]"
   ]
  },
  {
   "cell_type": "code",
   "execution_count": 263,
   "metadata": {
    "collapsed": false
   },
   "outputs": [
    {
     "name": "stdout",
     "output_type": "stream",
     "text": [
      "(1231, 5000) (1231, 7)\n"
     ]
    }
   ],
   "source": [
    "print X2.shape, df2.shape"
   ]
  },
  {
   "cell_type": "code",
   "execution_count": 339,
   "metadata": {
    "collapsed": true
   },
   "outputs": [],
   "source": [
    "def format_article(i, df2):\n",
    "    n_chars = 500\n",
    "    s = '***** %s ****' % df2.iloc[i]['title']\n",
    "    s = s + '\\n' + df2.iloc[i]['url']\n",
    "    s = s + '\\n\\n' + df2.iloc[i]['body_text'][:n_chars]\n",
    "    return s\n",
    "\n",
    "def print_articles(idx, df2, scores):\n",
    "    '''\n",
    "    print list of articles and associated scores\n",
    "    '''\n",
    "    for i in idx:\n",
    "        str_article = format_article(i, df2)\n",
    "        print '%d %.2f %s ' % (i, scores[i], str_article)\n",
    "        print \n",
    "\n",
    "def print_articles_2scores(idx, df2, sim, rating):\n",
    "    '''\n",
    "    print list of articles and associated scores\n",
    "    '''\n",
    "    for i in idx:\n",
    "        str_article = format_article(i, df2)\n",
    "        print '%d sim: %.2f rating: %.2f %s ' % (i, sim[i],rating[i], str_article)\n",
    "        print \n",
    "\n",
    "        "
   ]
  },
  {
   "cell_type": "code",
   "execution_count": 268,
   "metadata": {
    "collapsed": true
   },
   "outputs": [],
   "source": [
    "my_rec_engine = ItemItemRec(neighborhood_size=75)\n",
    "my_rec_engine.fit_item_features(X2)"
   ]
  },
  {
   "cell_type": "code",
   "execution_count": 393,
   "metadata": {
    "collapsed": false
   },
   "outputs": [],
   "source": [
    "rating_predict, relevant_items_all = my_rec_engine.pred_one_user_from_rating (rating_content, report_run_time=False)\n",
    "    "
   ]
  },
  {
   "cell_type": "code",
   "execution_count": null,
   "metadata": {
    "collapsed": false
   },
   "outputs": [],
   "source": [
    "rating_weighted = []\n",
    "for i_article in xrange(len(rating_predict)):\n",
    "    sim_vec = [my_rec_engine.item_sim_mat[i_article,j] \n",
    "               for j in  relevant_items_all[i_article]] \n",
    "    sim_max = np.max(sim_vec)\n",
    "    rating_weighted.append(rating_predict[i_article] * sim_avg)\n",
    "rating_weighted = np.array(rating_weighted)\n",
    "rating_weighted[np.argsort(-1.0*rating_weighted)[:5]]"
   ]
  },
  {
   "cell_type": "code",
   "execution_count": 394,
   "metadata": {
    "collapsed": false
   },
   "outputs": [
    {
     "name": "stdout",
     "output_type": "stream",
     "text": [
      "recommend:\n",
      "652 4.00 ***** Nubank Raises $30 Million to Challenge Banking in Brazil ****\n",
      "http://www.nytimes.com/2015/06/03/business/dealbook/nubank-raises-30-million-to-challenge-banking-in-brazil.html\n",
      "\n",
      "RIO DE JANEIRO — Nubank, the financial technology start-up founded by a former partner at Sequoia Capital, said on Tuesday that it had raised $30 million in a new funding round led by Tiger Global Management. Sequoia and another original backer, Kaszek Ventures, which is based in Buenos Aires, also joined in the round, which closed about two weeks ago, the company’s founder and chief executive, David Velez, said in an interview. QED Investors, which first invested in Nubank last year at the end  \n",
      "\n",
      "---- based on:\n",
      "727 sim: 0.13 rating: 4.00 ***** Help Wanted: Black Belts in Data  ****\n",
      "http://www.bloomberg.com/news/articles/2015-06-04/help-wanted-black-belts-in-data\n",
      "\n",
      "Share on LinkedIn Share on Reddit Share on Google+ E-mail\n",
      "A new species of techie is in demand these days—not only in Silicon Valley, but also in company headquarters around the world. “Data scientists are the new superheroes,” says Pascal Clement, the head of Amadeus Travel Intelligence in Madrid. The description isn’t exactly hyperbolic: The qualifications for the job include the strength to tunnel through mountains of information and the vision to discern patterns where others see none. Cleme \n",
      "\n",
      "901 sim: 0.16 rating: 4.00 ***** Less Noise but More Money in Data Science as More Businesses Hire ****\n",
      "http://bits.blogs.nytimes.com/2015/04/28/less-noise-but-more-money-in-data-science/\n",
      "\n",
      "April 28, 2015 9:30 am\n",
      "April 28, 2015 9:30 am\n",
      "The outlook for data scientists: less hype, more hiring.\n",
      "The exuberance surrounding big data has passed its peak and is trending down, the technology research firm Gartner declared last August in its annual “hype cycle” report on perceptions of technology.\n",
      "Perhaps, but it remains a rising market for data scientists. Salaries rose 8 percent on average in the last year, with bonuses adding $56,000, according to a salary and employment survey released o \n",
      "\n",
      "recommend:\n",
      "498 4.00 ***** Social ‘Trust’ and Lending ****\n",
      "http://bits.blogs.nytimes.com/2015/04/07/measuring-social-trust-to-make-loans/\n",
      "\n",
      "Alternative consumer lenders tend to fit into one of two camps: peer-to-peer marketplaces like Lending Club and Prosper, and start-ups using data science to parse credit risk, like Affirm, Earnest and Zest Finance. Vouch Financial, which is emerging from its pilot testing phase this week, has an unusual spin on the data science approach. Big data lenders often analyze a person’s social network on LinkedIn or Facebook as one signal, among many, for hints about how reliable a payer a loan candidat \n",
      "\n",
      "---- based on:\n",
      "220 sim: 0.12 rating: 4.00 ***** Sizing Up Big Data ****\n",
      "http://bits.blogs.nytimes.com/2013/06/19/sizing-up-big-data-broadening-beyond-the-internet/\n",
      "\n",
      "In his young career, Jeffrey Hammerbacher has been a scout on the frontiers of the data economy. Big Data 2013A special section on the business and culture of big data.\n",
      "In 2005, Mr. Hammerbacher, then a freshly minted Harvard graduate, did what many math and computing whizzes did. He went to Wall Street as a “quant,” building math models for complex financial products. Looking for a better use for his skills, Mr. Hammerbacher departed to Silicon Valley less than a year later and joined Facebook. \n",
      "\n",
      "901 sim: 0.11 rating: 4.00 ***** Less Noise but More Money in Data Science as More Businesses Hire ****\n",
      "http://bits.blogs.nytimes.com/2015/04/28/less-noise-but-more-money-in-data-science/\n",
      "\n",
      "April 28, 2015 9:30 am\n",
      "April 28, 2015 9:30 am\n",
      "The outlook for data scientists: less hype, more hiring.\n",
      "The exuberance surrounding big data has passed its peak and is trending down, the technology research firm Gartner declared last August in its annual “hype cycle” report on perceptions of technology.\n",
      "Perhaps, but it remains a rising market for data scientists. Salaries rose 8 percent on average in the last year, with bonuses adding $56,000, according to a salary and employment survey released o \n",
      "\n",
      "recommend:\n",
      "497 4.00 ***** A Look at Round 1 ****\n",
      "http://sports.blogs.nytimes.com/2014/05/08/highlights-and-analysis-of-the-2014-n-f-l-draft-round-1/\n",
      "\n",
      "There was a lot of hype surrounding the first round of the 2014 N.F.L draft, and it didn’t disappoint. From the slide of Johnny Manziel to the unexpected names called in the second half of the round, the first 32 picks in 2014 came with a lot of excitement. After the Houston Texans drafted defensive end Jadeveon Clowney and the St. Louis Rams selected offensive tackle Greg Robinson, things got a whole lot murkier. There really wasn’t a consensus on what the Jacksonville Jaguars might do with the \n",
      "\n",
      "---- based on:\n",
      "901 sim: 0.08 rating: 4.00 ***** Less Noise but More Money in Data Science as More Businesses Hire ****\n",
      "http://bits.blogs.nytimes.com/2015/04/28/less-noise-but-more-money-in-data-science/\n",
      "\n",
      "April 28, 2015 9:30 am\n",
      "April 28, 2015 9:30 am\n",
      "The outlook for data scientists: less hype, more hiring.\n",
      "The exuberance surrounding big data has passed its peak and is trending down, the technology research firm Gartner declared last August in its annual “hype cycle” report on perceptions of technology.\n",
      "Perhaps, but it remains a rising market for data scientists. Salaries rose 8 percent on average in the last year, with bonuses adding $56,000, according to a salary and employment survey released o \n",
      "\n"
     ]
    }
   ],
   "source": [
    "for i_article in np.argsort(-1.0*rating_predict)[:3]:\n",
    "    #i_article = 602\n",
    "    relevant_items = relevant_items_all[i_article]\n",
    "    #ratings_sim = [rating_dict[i] for i in relevant_items]\n",
    "    sim_vec = my_rec_engine.item_sim_mat[i_article,:].flatten()#, relevant_items] \n",
    "    print 'recommend:'\n",
    "    print_articles([i_article],df2, rating_predict)\n",
    "    print '---- based on:'\n",
    "    print_articles_2scores(relevant_items, df2, sim_vec, rating_vec)"
   ]
  },
  {
   "cell_type": "code",
   "execution_count": 397,
   "metadata": {
    "collapsed": false
   },
   "outputs": [],
   "source": [
    "pkl.dump(df_recom,open('df_recom.pkl','w'))\n",
    "pkl.dump(relevant_all,open('relevant_all.pkl','w'))\n"
   ]
  },
  {
   "cell_type": "code",
   "execution_count": 380,
   "metadata": {
    "collapsed": false
   },
   "outputs": [
    {
     "data": {
      "text/plain": [
       "list"
      ]
     },
     "execution_count": 380,
     "metadata": {},
     "output_type": "execute_result"
    }
   ],
   "source": [
    "with open('relevant_all.pkl','r') as f:\n",
    "    test = pkl.load(f)\n",
    "type(test)"
   ]
  },
  {
   "cell_type": "code",
   "execution_count": 390,
   "metadata": {
    "collapsed": false
   },
   "outputs": [
    {
     "name": "stdout",
     "output_type": "stream",
     "text": [
      "<class 'pandas.core.frame.DataFrame'>\n",
      "body_text    Machine Learning in Parallel with SVM, GLM; Go...\n",
      "i                                                          754\n",
      "rating                                                       4\n",
      "sim                                                  0.6877297\n",
      "title        Top KDnuggets tweets, Mar 21-23: Machine Learn...\n",
      "url          http://www.kdnuggets.com/2014/03/top-tweets-ma...\n",
      "Name: 0, dtype: object\n"
     ]
    }
   ],
   "source": [
    "df = test[0]\n",
    "print type(df)\n",
    "for index, row in df.iterrows():\n",
    "    print row"
   ]
  },
  {
   "cell_type": "code",
   "execution_count": 396,
   "metadata": {
    "collapsed": false
   },
   "outputs": [
    {
     "name": "stdout",
     "output_type": "stream",
     "text": [
      "                                           body_text  score  \\\n",
      "0  RIO DE JANEIRO — Nubank, the financial technol...      4   \n",
      "1  Alternative consumer lenders tend to fit into ...      4   \n",
      "2  There was a lot of hype surrounding the first ...      4   \n",
      "\n",
      "                                               title  \\\n",
      "0  Nubank Raises $30 Million to Challenge Banking...   \n",
      "1                         Social ‘Trust’ and Lending   \n",
      "2                                  A Look at Round 1   \n",
      "\n",
      "                                                 url  \n",
      "0  http://www.nytimes.com/2015/06/03/business/dea...  \n",
      "1  http://bits.blogs.nytimes.com/2015/04/07/measu...  \n",
      "2  http://sports.blogs.nytimes.com/2014/05/08/hig...  \n",
      "-------\n",
      "[                                           body_text    i  rating       sim  \\\n",
      "0  Share on LinkedIn Share on Reddit Share on Goo...  727       4  0.129526   \n",
      "1  April 28, 2015 9:30 am\\nApril 28, 2015 9:30 am...  901       4  0.159006   \n",
      "\n",
      "                                               title  \\\n",
      "0                  Help Wanted: Black Belts in Data    \n",
      "1  Less Noise but More Money in Data Science as M...   \n",
      "\n",
      "                                                 url  \n",
      "0  http://www.bloomberg.com/news/articles/2015-06...  \n",
      "1  http://bits.blogs.nytimes.com/2015/04/28/less-...  ,                                            body_text    i  rating       sim  \\\n",
      "0  In his young career, Jeffrey Hammerbacher has ...  220       4  0.124654   \n",
      "1  April 28, 2015 9:30 am\\nApril 28, 2015 9:30 am...  901       4  0.114806   \n",
      "\n",
      "                                               title  \\\n",
      "0                                 Sizing Up Big Data   \n",
      "1  Less Noise but More Money in Data Science as M...   \n",
      "\n",
      "                                                 url  \n",
      "0  http://bits.blogs.nytimes.com/2013/06/19/sizin...  \n",
      "1  http://bits.blogs.nytimes.com/2015/04/28/less-...  ,                                            body_text    i  rating       sim  \\\n",
      "0  April 28, 2015 9:30 am\\nApril 28, 2015 9:30 am...  901       4  0.080589   \n",
      "\n",
      "                                               title  \\\n",
      "0  Less Noise but More Money in Data Science as M...   \n",
      "\n",
      "                                                 url  \n",
      "0  http://bits.blogs.nytimes.com/2015/04/28/less-...  ]\n"
     ]
    }
   ],
   "source": [
    "recommed_articles = []\n",
    "relevant_all = []\n",
    "\n",
    "for i_article in np.argsort(-1.0*rating_predict)[:3]:\n",
    "    r= {}\n",
    "    #i_article = 602\n",
    "    relevant_items = relevant_items_all[i_article]\n",
    "    sim_vec = my_rec_engine.item_sim_mat[i_article,:].flatten()#, relevant_items] \n",
    "    r['score'] = rating_predict[i_article]\n",
    "    r['title'] = df2.iloc[i_article]['title']\n",
    "    r['body_text']=df2.iloc[i_article]['body_text']\n",
    "    r['url'] = df2.iloc[i_article]['url']\n",
    "\n",
    "    recommed_articles.append(r)\n",
    "    \n",
    "    relevent = []\n",
    "    for i_revelent in relevant_items:\n",
    "        rele = {}\n",
    "        rele['rating'] =  rating_vec[i_revelent]\n",
    "        rele['sim'] = sim_vec[i_revelent]\n",
    "        rele['title'] = df2.iloc[i_revelent]['title']\n",
    "        rele['body_text']=df2.iloc[i_revelent]['body_text']\n",
    "        rele['url'] = df2.iloc[i_revelent]['url']\n",
    "        rele['i'] = i_revelent\n",
    "        relevent.append(rele)\n",
    "    df_relevant = pd.DataFrame(relevent)\n",
    "    relevant_all.append(df_relevant)\n",
    "    \n",
    "df_recom = pd.DataFrame(recommed_articles)\n",
    "\n",
    "print df_recom.head()\n",
    "print '-------'\n",
    "print relevant_all"
   ]
  },
  {
   "cell_type": "code",
   "execution_count": 307,
   "metadata": {
    "collapsed": false
   },
   "outputs": [
    {
     "name": "stdout",
     "output_type": "stream",
     "text": [
      "0 4.00 ***** Top KDnuggets tweets, Jan 13-14: Data Science in Python, Free Tutorial; How Netflix Got Analytics Wrong, Then Right ****\n",
      "http://www.kdnuggets.com/2014/01/top-tweets-jan13-14.html\n",
      "\n",
      "Data Science in Python Tutorial, free tutorial; How Netflix Got Analytics Wrong, Then Right; Cartoon: Lets solve this problem by using #BigData none of us have any idea what to do with ; \"Data Scientist\" fever in Japan is gone?\n",
      "Most popular KDnuggets tweets\n",
      "(see twitter.com/kdnuggets ) for Jan 13-14 were\n",
      " \n",
      "How Netflix Got Analytics Wrong, Then Right - two entertaining and informative stories #NetflixPrize #BigData buff.ly/1fvckCN\n",
      "Most Retweeted:\n",
      "Cartoon: Let's solve this problem by using #BigDat \n",
      "\n",
      "602 4.00 ***** Letters ****\n",
      "http://www.nytimes.com/2015/02/01/books/review/letters-among-the-disrupted.html\n",
      "\n",
      "‘Among the Disrupted’ To the Editor: With friends like Leon Wieseltier (“Among the Disrupted,” Jan. 18), humanism doesn’t need enemies. The greatest weakness of humanism ­— painfully manifest in deservedly defunct postmodernism — has been its opposition to science, tantamount to and denying reality itself. A key component of this reality is the fact (not a contention) that human beings are part of the natural world. Moreover, contra Wieseltier, we know for certain that our species is not central \n",
      "\n",
      "143 4.00 ***** Facebook Flunks Its Apology ****\n",
      "http://op-talk.blogs.nytimes.com/2014/07/01/facebook-flunks-its-apology/\n",
      "\n",
      "“Ok so,” begins Adam D.I. Kramer’s apology for Facebook’s recent experiment on its users’ feelings. Mr. Kramer, a data scientist at Facebook, went on to explain the experiment in greater detail (Facebook altered some users’ news feeds, then analyzed the emotional content of their later posts) and to say, “my coauthors and I are very sorry for the way the paper described the research and any anxiety it caused.” As Mike Isaac notes in the Times’ Bits blog, Mr. Kramer’s post is part of a long histo \n",
      "\n",
      "597 4.00 ***** New Approach Trains Robots to Match Human Dexterity and Speed ****\n",
      "http://www.nytimes.com/2015/05/22/science/robots-that-can-match-human-dexterity.html\n",
      "\n",
      "BERKELEY, Calif. —  In an engineering laboratory here, a robot has learned to screw the cap on a bottle, even figuring out the need to apply a subtle backward twist to find the thread before turning it the right way. This and other activities — including putting a clothes hanger on a rod, inserting a block into a tight space and placing a hammer at the correct angle to remove a nail from a block of wood — may seem like pedestrian actions. But they represent significant advances in robotic learni \n",
      "\n",
      "145 4.00 ***** Food Start-Up Lures Techies ****\n",
      "http://bits.blogs.nytimes.com/2014/09/04/the-food-startup-hampton-creek-adds-tech-talent/\n",
      "\n",
      "The flow of techies seeking to shake up the food business is picking up. Over the past few years, Silicon Valley venture capitalists and entrepreneurs have been cooking up new ways to bring innovation to eating. Their efforts span everything from gourmet grilled cheese sandwiches to Soylent, a nutrient-rich drink mix invented by engineers. Another start-up, Hampton Creek, is taking a different tack by scouring the planet for ingredients that can be used to make healthier, cheaper foods with less \n",
      "\n",
      "594 4.00 ***** Top KDnuggets tweets, Jan 29-30: Visual.ly Data Visualization Catalog; 100 numpy exercises, from Novice to Expert Data Scientists ****\n",
      "http://www.kdnuggets.com/2014/01/top-tweets-jan29-30.html\n",
      "\n",
      "Visual.ly Data Visualization Catalog help you choose the right visualization; 100 numpy exercises, from Novice to Expert Data Scientists; R vs Python Duel, Contest 1A - download, process 2GB census data; Online course: More Data Mining with Weka\n",
      "Most popular KDnuggets tweets\n",
      "(see twitter.com/kdnuggets ) for Jan 29-30 were\n",
      "Most viewed:\n",
      "Visually Data Visualization Catalog help you choose the right visualization for your data buff.ly/1fmCftb\n",
      "Most Retweeted:\n",
      "Visually Data Visualization Catalog help  \n",
      "\n",
      "593 4.00 ***** On the Nice Internet, Caring Is Sharing ****\n",
      "http://www.nytimes.com/2014/07/17/fashion/Websites-Thought-Catalog-Upworthy-Aim-to-Uplift.html\n",
      "\n",
      "On a bright afternoon, Alex Magnin, chief revenue officer of the website Thought Catalog, strolled through Dolores Park in San Francisco, sipping a cup of green tea. Mr. Magnin, 29 and clad in a rumpled plaid shirt, was visiting from Brooklyn, where Thought Catalog is loosely based (most contributors work out of their homes), to connect with some of the site’s West Coast staff members. “We happen to have some awesome writers who make stuff people love and can relate to,” he said, blinking into t \n",
      "\n",
      "584 4.00 ***** Data Deluge: MLB Rolls Out Statcast Analytics on Tuesday ****\n",
      "http://www.nytimes.com/aponline/2015/04/20/us/ap-bbo-statcast.html\n",
      "\n",
      "NEW YORK —  Which outfielder sprints the fastest and runs the longest to snag line drives into the gap? Which shortstop is best at throwing from the grass to nip the runner at first? Which catcher gets the ball to second base the quickest? A new era in analytics starts Tuesday when Major League Baseball rolls out its Statcast tracking technology during the MLB Network's broadcast of the St. Louis Cardinals' game at the Washington Nationals. Real-time access will expand quickly to Fox, ESPN and T \n",
      "\n",
      "567 4.00 ***** Top KDnuggets tweets, Feb 12-13: Where to start learning #DataScience; import.io Automatic Data Extraction ****\n",
      "http://www.kdnuggets.com/2014/02/top-tweets-feb12-13.html\n",
      "\n",
      "Where to start learning #DataScience for 1) statisticians, 2) coders, and 3) newbies; import.io Automatic Data Extraction - a very easy way to get data; Best Twitter keyboard shortcut is ? - a question mark; Cartoon: Data Scientist Valentine Day Prediction.\n",
      "Most popular KDnuggets tweets\n",
      "(see twitter.com/kdnuggets ) for Feb 12-13 were\n",
      "Most viewed:\n",
      "Where to start learning #DataScience for 1) statisticians, 2) coders, and 3) newbies buff.ly/1eUDxMX\n",
      "Most Retweeted:\n",
      "At #strataconf James Burke: Major  \n",
      "\n",
      "561 4.00 ***** Data Suggests Legs and Toes in Ancestor of Living Snakes ****\n",
      "http://www.nytimes.com/2015/05/20/science/data-suggests-legs-and-toes-in-ancestor-of-living-snakes.html\n",
      "\n",
      "From the robust boa constrictor to the venomous rattlesnake, all of the more than 3,400 snake species that slither today may have descended from the same prehistoric forest prowler, whose sinuous body had two small hind legs with toes and ankles, researchers reported on Tuesday. After analyzing data gathered through fossils, genetic sequencing and anatomical comparisons of 73 snake and lizard species, a team of paleontologists from Yale University has constructed what it calls the most comprehen \n",
      "\n"
     ]
    }
   ],
   "source": [
    "n_top = 10\n",
    "idx_top = np.argsort(-1.0*rating_predict)[:n_top]\n",
    "print_articles(idx_top, df2, rating_predict)"
   ]
  },
  {
   "cell_type": "code",
   "execution_count": 313,
   "metadata": {
    "collapsed": false
   },
   "outputs": [
    {
     "name": "stdout",
     "output_type": "stream",
     "text": [
      "225 0.182778229082\n"
     ]
    }
   ],
   "source": [
    "print sum(rating_predict>3.9999), 1.0 * sum(rating_predict>3.99)/len(rating_predict)"
   ]
  },
  {
   "cell_type": "code",
   "execution_count": 311,
   "metadata": {
    "collapsed": false
   },
   "outputs": [
    {
     "data": {
      "text/plain": [
       "1231"
      ]
     },
     "execution_count": 311,
     "metadata": {},
     "output_type": "execute_result"
    }
   ],
   "source": [
    "len(rating_predict)"
   ]
  },
  {
   "cell_type": "code",
   "execution_count": null,
   "metadata": {
    "collapsed": true
   },
   "outputs": [],
   "source": []
  }
 ],
 "metadata": {
  "kernelspec": {
   "display_name": "Python 2",
   "language": "python",
   "name": "python2"
  },
  "language_info": {
   "codemirror_mode": {
    "name": "ipython",
    "version": 2
   },
   "file_extension": ".py",
   "mimetype": "text/x-python",
   "name": "python",
   "nbconvert_exporter": "python",
   "pygments_lexer": "ipython2",
   "version": "2.7.10"
  }
 },
 "nbformat": 4,
 "nbformat_minor": 0
}
